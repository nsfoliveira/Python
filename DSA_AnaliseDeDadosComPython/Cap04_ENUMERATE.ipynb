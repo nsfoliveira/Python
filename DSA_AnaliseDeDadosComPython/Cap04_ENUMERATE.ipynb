{
 "cells": [
  {
   "cell_type": "markdown",
   "metadata": {},
   "source": [
    "# Função ENUMERATE\n",
    "\n",
    "## enumerate()\n",
    "\n",
    "A função enuerate permite retornar o índice de cada valor em uma sequência, à medida que você percorre toda a sequência. Enumerate retorna uma <b>tupla</b"
   ]
  }
 ],
 "metadata": {
  "kernelspec": {
   "display_name": "Python 3",
   "language": "python",
   "name": "python3"
  },
  "language_info": {
   "codemirror_mode": {
    "name": "ipython",
    "version": 3
   },
   "file_extension": ".py",
   "mimetype": "text/x-python",
   "name": "python",
   "nbconvert_exporter": "python",
   "pygments_lexer": "ipython3",
   "version": "3.8.5"
  }
 },
 "nbformat": 4,
 "nbformat_minor": 4
}
