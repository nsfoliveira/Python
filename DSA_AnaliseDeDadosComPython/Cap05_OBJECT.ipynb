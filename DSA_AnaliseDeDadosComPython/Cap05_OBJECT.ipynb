{
 "cells": [
  {
   "cell_type": "markdown",
   "id": "8743215b",
   "metadata": {},
   "source": [
    "# Objetos\n",
    "\n",
    "Em Python tudo é objeto!"
   ]
  },
  {
   "cell_type": "code",
   "execution_count": 7,
   "id": "5827bb17",
   "metadata": {},
   "outputs": [
    {
     "name": "stdout",
     "output_type": "stream",
     "text": [
      "<class 'int'>\n",
      "<class 'tuple'>\n",
      "<class 'list'>\n",
      "<class 'dict'>\n",
      "<class 'str'>\n"
     ]
    }
   ],
   "source": [
    "# usando a função type para verificar o tipo de um objeto\n",
    "print(type(10))\n",
    "print(type(()))\n",
    "print(type([]))\n",
    "print(type({}))\n",
    "print(type('a'))\n"
   ]
  },
  {
   "cell_type": "code",
   "execution_count": null,
   "id": "1cfba791",
   "metadata": {},
   "outputs": [],
   "source": [
    "# Usando atributos"
   ]
  },
  {
   "cell_type": "code",
   "execution_count": 8,
   "id": "f403af4a",
   "metadata": {},
   "outputs": [],
   "source": [
    "class Funcionarios:\n",
    "    def __init__(self, nome, salario):\n",
    "        self.nome = nome\n",
    "        self.salario = salario\n",
    "        \n",
    "    def listFunc(self):\n",
    "        print(\"O nome do funcionário é %s e o salário é %d\" %(self.nome, self.salario))"
   ]
  },
  {
   "cell_type": "code",
   "execution_count": 17,
   "id": "399e7cc0",
   "metadata": {},
   "outputs": [],
   "source": [
    "Func1 = Funcionarios('Maria', 3500)"
   ]
  },
  {
   "cell_type": "code",
   "execution_count": 18,
   "id": "411f2eac",
   "metadata": {},
   "outputs": [
    {
     "name": "stdout",
     "output_type": "stream",
     "text": [
      "O nome do funcionário é Maria e o salário é 3500\n"
     ]
    }
   ],
   "source": [
    "Func1.listFunc()"
   ]
  },
  {
   "cell_type": "code",
   "execution_count": 19,
   "id": "dc36a440",
   "metadata": {},
   "outputs": [
    {
     "data": {
      "text/plain": [
       "True"
      ]
     },
     "execution_count": 19,
     "metadata": {},
     "output_type": "execute_result"
    }
   ],
   "source": [
    "hasattr(Func1, \"nome\")"
   ]
  },
  {
   "cell_type": "code",
   "execution_count": 20,
   "id": "426c135b",
   "metadata": {},
   "outputs": [
    {
     "data": {
      "text/plain": [
       "True"
      ]
     },
     "execution_count": 20,
     "metadata": {},
     "output_type": "execute_result"
    }
   ],
   "source": [
    "hasattr(Func1, \"salario\")"
   ]
  },
  {
   "cell_type": "code",
   "execution_count": 21,
   "id": "ab2a8de2",
   "metadata": {},
   "outputs": [],
   "source": [
    "setattr(Func1, \"salario\", 4500)"
   ]
  },
  {
   "cell_type": "code",
   "execution_count": 22,
   "id": "4be12327",
   "metadata": {},
   "outputs": [
    {
     "data": {
      "text/plain": [
       "4500"
      ]
     },
     "execution_count": 22,
     "metadata": {},
     "output_type": "execute_result"
    }
   ],
   "source": [
    "getattr(Func1,\"salario\")"
   ]
  },
  {
   "cell_type": "code",
   "execution_count": 23,
   "id": "e451388a",
   "metadata": {},
   "outputs": [
    {
     "name": "stdout",
     "output_type": "stream",
     "text": [
      "O nome do funcionário é Maria e o salário é 4500\n"
     ]
    }
   ],
   "source": [
    "Func1.listFunc()"
   ]
  },
  {
   "cell_type": "code",
   "execution_count": 26,
   "id": "398c53dc",
   "metadata": {},
   "outputs": [
    {
     "ename": "AttributeError",
     "evalue": "salario",
     "output_type": "error",
     "traceback": [
      "\u001b[1;31m---------------------------------------------------------------------------\u001b[0m",
      "\u001b[1;31mAttributeError\u001b[0m                            Traceback (most recent call last)",
      "\u001b[1;32m<ipython-input-26-048a1ad82e3b>\u001b[0m in \u001b[0;36m<module>\u001b[1;34m\u001b[0m\n\u001b[1;32m----> 1\u001b[1;33m \u001b[0mdelattr\u001b[0m\u001b[1;33m(\u001b[0m\u001b[0mFunc1\u001b[0m\u001b[1;33m,\u001b[0m \u001b[1;34m\"salario\"\u001b[0m\u001b[1;33m)\u001b[0m\u001b[1;33m\u001b[0m\u001b[1;33m\u001b[0m\u001b[0m\n\u001b[0m",
      "\u001b[1;31mAttributeError\u001b[0m: salario"
     ]
    }
   ],
   "source": [
    "delattr(Func1, \"salario\")"
   ]
  },
  {
   "cell_type": "code",
   "execution_count": 27,
   "id": "0e9d2fbe",
   "metadata": {},
   "outputs": [
    {
     "data": {
      "text/plain": [
       "False"
      ]
     },
     "execution_count": 27,
     "metadata": {},
     "output_type": "execute_result"
    }
   ],
   "source": [
    "hasattr(Func1, \"salario\")"
   ]
  }
 ],
 "metadata": {
  "kernelspec": {
   "display_name": "Python 3",
   "language": "python",
   "name": "python3"
  },
  "language_info": {
   "codemirror_mode": {
    "name": "ipython",
    "version": 3
   },
   "file_extension": ".py",
   "mimetype": "text/x-python",
   "name": "python",
   "nbconvert_exporter": "python",
   "pygments_lexer": "ipython3",
   "version": "3.8.8"
  }
 },
 "nbformat": 4,
 "nbformat_minor": 5
}
