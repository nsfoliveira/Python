{
 "cells": [
  {
   "cell_type": "markdown",
   "id": "f8576ba7",
   "metadata": {},
   "source": [
    "# Herança\n",
    "\n",
    "Herança é uma forma de definir novas classes, usandos classes que foram definidas previamente. Estas novas classes são chamadas de <b>classes derivadas</b> ou <b>sub-classes</b>. Já a classe que deu orgiem a sub-classe é chamada de  <b>super-classe</b> ou <b>classe base</b>."
   ]
  },
  {
   "cell_type": "code",
   "execution_count": 1,
   "id": "069c6cc9",
   "metadata": {},
   "outputs": [],
   "source": [
    "# Criando a classe ANIMAL (super-classe ou classe base)\n",
    "class Animal():\n",
    "    \n",
    "    def __init__(sefl):\n",
    "        print(\"Animal criado\")\n",
    "        \n",
    "    def Identif(self):\n",
    "        print(\"Animal\")\n",
    "        \n",
    "    def Comer(self):\n",
    "        print(\"Comendo\")"
   ]
  },
  {
   "cell_type": "code",
   "execution_count": 2,
   "id": "a791297f",
   "metadata": {},
   "outputs": [],
   "source": [
    "class Cachorro(Animal): # indicamos qual é a classe mãe/parâmetro\n",
    "    \n",
    "    def __init__(self):\n",
    "        Animal.__init__(self)\n",
    "        print(\"Objeto cachorro criado\")\n",
    "        \n",
    "    def Identif(self):\n",
    "        print(\"Cachorro\")\n",
    "        \n",
    "    def Latir(self):\n",
    "        print(\"Au au\")"
   ]
  },
  {
   "cell_type": "code",
   "execution_count": 3,
   "id": "c1d91ee7",
   "metadata": {},
   "outputs": [
    {
     "name": "stdout",
     "output_type": "stream",
     "text": [
      "Animal criado\n",
      "Objeto cachorro criado\n"
     ]
    }
   ],
   "source": [
    "# criando um objeto (instanciando a classe)\n",
    "rex = Cachorro()"
   ]
  },
  {
   "cell_type": "code",
   "execution_count": 4,
   "id": "e580ac5b",
   "metadata": {},
   "outputs": [
    {
     "name": "stdout",
     "output_type": "stream",
     "text": [
      "Cachorro\n"
     ]
    }
   ],
   "source": [
    "# executando o método da classe cachorro \n",
    "rex.Identif()"
   ]
  },
  {
   "cell_type": "code",
   "execution_count": 5,
   "id": "812b443c",
   "metadata": {},
   "outputs": [
    {
     "name": "stdout",
     "output_type": "stream",
     "text": [
      "Comendo\n"
     ]
    }
   ],
   "source": [
    "#executando o método da classe animal\n",
    "rex.Comer()"
   ]
  }
 ],
 "metadata": {
  "kernelspec": {
   "display_name": "Python 3",
   "language": "python",
   "name": "python3"
  },
  "language_info": {
   "codemirror_mode": {
    "name": "ipython",
    "version": 3
   },
   "file_extension": ".py",
   "mimetype": "text/x-python",
   "name": "python",
   "nbconvert_exporter": "python",
   "pygments_lexer": "ipython3",
   "version": "3.8.8"
  }
 },
 "nbformat": 4,
 "nbformat_minor": 5
}
