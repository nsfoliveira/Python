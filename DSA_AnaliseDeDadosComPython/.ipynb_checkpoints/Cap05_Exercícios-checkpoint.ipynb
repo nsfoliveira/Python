{
 "cells": [
  {
   "cell_type": "markdown",
   "id": "b068d78e",
   "metadata": {},
   "source": [
    "# Exercícios\n",
    "\n",
    "Exercícios propostos para fixação do conteúdo\n"
   ]
  },
  {
   "cell_type": "code",
   "execution_count": 1,
   "id": "fab74f1c",
   "metadata": {},
   "outputs": [],
   "source": [
    "# Exercício 1 - Crie um objeto a partir da classe abaixo, chamado roc1, passando 2 parâmetros e depois faça uma chamada\n",
    "# aos atributos e métodos\n",
    "from math import sqrt\n",
    "\n",
    "class Rocket():\n",
    "     \n",
    "    def __init__(self, x=0, y=0):\n",
    "        self.x = x\n",
    "        self.y = y\n",
    "        \n",
    "    def move_rocket(self, x_increment=0, y_increment=1):\n",
    "        self.x += x_increment\n",
    "        self.y += y_increment\n",
    "        \n",
    "    def print_rocket(self):\n",
    "        print(self.x, self.y)"
   ]
  },
  {
   "cell_type": "code",
   "execution_count": 2,
   "id": "24d1dba8",
   "metadata": {},
   "outputs": [
    {
     "name": "stdout",
     "output_type": "stream",
     "text": [
      "5 17\n",
      "15 45\n"
     ]
    }
   ],
   "source": [
    "# passando os parâmetros e chamando os métodos\n",
    "roc1 = Rocket(5,17)\n",
    "roc1.x\n",
    "roc1.y\n",
    "roc1.print_rocket()\n",
    "roc1.move_rocket(10, 28)\n",
    "roc1.print_rocket()"
   ]
  },
  {
   "cell_type": "code",
   "execution_count": 3,
   "id": "69f2347b",
   "metadata": {},
   "outputs": [
    {
     "name": "stdout",
     "output_type": "stream",
     "text": [
      "Object created!\n"
     ]
    },
    {
     "data": {
      "text/plain": [
       "'New user created = Name: Natália, Age: 30 from Santos/Brasil'"
      ]
     },
     "execution_count": 3,
     "metadata": {},
     "output_type": "execute_result"
    }
   ],
   "source": [
    "# Exercício 2 - Crie uma classe chamada Pessoa() com os atributos: nome, cidade, telefone e e-mail. Use pelo menos 2\n",
    "# métodos especiais na sua classe. Crie um objeto da sua classe e faça uma chamada a pelo menos um dos seus métodos\n",
    "# especiais\n",
    "\n",
    "class Person():\n",
    "    \n",
    "    def __init__(self, name, age, city, country):\n",
    "        self.name = name\n",
    "        self.age = age\n",
    "        self.city = city\n",
    "        self.country = country\n",
    "        print(\"Object created!\")\n",
    "    def __str__(self):\n",
    "        return \"New user created = Name: %s, Age: %d from %s/%s\" %(self.name, self.age, self.city, self.country)\n",
    "    \n",
    "User1 = Person(\"Natália\", 30, \"Santos\", \"Brasil\")\n",
    "str(User1)"
   ]
  },
  {
   "cell_type": "code",
   "execution_count": 4,
   "id": "23edd96e",
   "metadata": {},
   "outputs": [
    {
     "name": "stdout",
     "output_type": "stream",
     "text": [
      "Valores para o objeto criado: Pequeno Led 64 GB\n"
     ]
    }
   ],
   "source": [
    "# Exercício 3 - Crie a classe Smartphone com 2 atributos, tamanho e interface e crie a classe MP3Player com os \n",
    "# atributos capacidade. A classe MP3player deve herdar os atributos da classe Smartphone.\n",
    "\n",
    "class Smartphone(object):\n",
    "    def __init__(self, tamanho, interface):\n",
    "        self.tamanho = tamanho\n",
    "        self.interface = interface\n",
    "        \n",
    "class MP3Player(Smartphone):\n",
    "    def __init__(self, capacidade, tamanho = 'Pequeno', interface = 'Led'):\n",
    "        self.capacidade = capacidade\n",
    "        Smartphone.__init__(self, tamanho, interface)\n",
    "        \n",
    "    def print_mp3player(self):\n",
    "        print(\"Valores para o objeto criado: %s %s %s\"  %(self.tamanho, self.interface, self.capacidade))\n",
    "    \n",
    "device1 = MP3Player('64 GB')\n",
    "device1.print_mp3player()"
   ]
  }
 ],
 "metadata": {
  "kernelspec": {
   "display_name": "Python 3",
   "language": "python",
   "name": "python3"
  },
  "language_info": {
   "codemirror_mode": {
    "name": "ipython",
    "version": 3
   },
   "file_extension": ".py",
   "mimetype": "text/x-python",
   "name": "python",
   "nbconvert_exporter": "python",
   "pygments_lexer": "ipython3",
   "version": "3.8.8"
  }
 },
 "nbformat": 4,
 "nbformat_minor": 5
}
