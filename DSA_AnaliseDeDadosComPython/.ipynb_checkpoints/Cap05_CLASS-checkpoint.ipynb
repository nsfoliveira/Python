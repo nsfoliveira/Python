{
 "cells": [
  {
   "cell_type": "markdown",
   "id": "d4f4837a",
   "metadata": {},
   "source": [
    "# Classe\n",
    "\n",
    "Para criar uma classe usa-se a palavra reservada <b>Class</b>. O nome da sua classe segue a mesma convenção de nomes para criação de <b>funções e variáveis</b>, mas normalmente se usa a primeira letra maiúscula em cada palavra do nome da classe."
   ]
  },
  {
   "cell_type": "code",
   "execution_count": null,
   "id": "405184ee",
   "metadata": {},
   "outputs": [],
   "source": []
  }
 ],
 "metadata": {
  "kernelspec": {
   "display_name": "Python 3",
   "language": "python",
   "name": "python3"
  },
  "language_info": {
   "codemirror_mode": {
    "name": "ipython",
    "version": 3
   },
   "file_extension": ".py",
   "mimetype": "text/x-python",
   "name": "python",
   "nbconvert_exporter": "python",
   "pygments_lexer": "ipython3",
   "version": "3.8.8"
  }
 },
 "nbformat": 4,
 "nbformat_minor": 5
}
