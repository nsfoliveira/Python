{
 "cells": [
  {
   "cell_type": "markdown",
   "id": "db61d0f6",
   "metadata": {},
   "source": [
    "# Classe\n",
    "\n",
    "Para criar uma classe usa-se a palavra reservada <b>Class</b>. O nome da sua classe segue a mesma convenção de nomes para criação de <b>funções e variáveis</b>, mas normalmente se usa a primeira letra maiúscula em cada palavra do nome da classe."
   ]
  },
  {
   "cell_type": "code",
   "execution_count": 1,
   "id": "5889926b",
   "metadata": {},
   "outputs": [],
   "source": [
    "# criando uma classe chamada Livro\n",
    "class Livro():\n",
    "    # este método vai inicializar cada objeto criado a partir desta classe\n",
    "    # o nome deste método é __init__\n",
    "    # (self)é uma referência a cada atributo de um objeto criado a partir desta classe\n",
    "    def __init__(self):\n",
    "        # atributos de cada objeto criado a partir desta classe.\n",
    "        # o self indica que estes são atributos dos objetos\n",
    "        self.titulo = \"Jogos Vorazes\"\n",
    "        self.codigo = 1\n",
    "        print(\"Construtor chamado para criar um objeto desta classe\")\n",
    "    # métodos são funções, que recebem como parametro atributos do objeto criado\n",
    "    def imprime(self):\n",
    "        print(\"Foi criado o livro %s e volume %d\" %(self.titulo, self.codigo))\n",
    "    "
   ]
  },
  {
   "cell_type": "code",
   "execution_count": 2,
   "id": "60c2b759",
   "metadata": {},
   "outputs": [
    {
     "name": "stdout",
     "output_type": "stream",
     "text": [
      "Construtor chamado para criar um objeto desta classe\n"
     ]
    }
   ],
   "source": [
    "# criando uma instância da classe Livro\n",
    "Livro1 = Livro()"
   ]
  },
  {
   "cell_type": "code",
   "execution_count": 3,
   "id": "79648a36",
   "metadata": {},
   "outputs": [
    {
     "data": {
      "text/plain": [
       "__main__.Livro"
      ]
     },
     "execution_count": 3,
     "metadata": {},
     "output_type": "execute_result"
    }
   ],
   "source": [
    "# tipo de objeto Livro1\n",
    "type(Livro1)"
   ]
  },
  {
   "cell_type": "code",
   "execution_count": 4,
   "id": "aef9d4b2",
   "metadata": {},
   "outputs": [
    {
     "data": {
      "text/plain": [
       "'Jogos Vorazes'"
      ]
     },
     "execution_count": 4,
     "metadata": {},
     "output_type": "execute_result"
    }
   ],
   "source": [
    "# atributo do objeto Livro1\n",
    "Livro1.titulo"
   ]
  },
  {
   "cell_type": "code",
   "execution_count": 5,
   "id": "731f9747",
   "metadata": {},
   "outputs": [
    {
     "data": {
      "text/plain": [
       "1"
      ]
     },
     "execution_count": 5,
     "metadata": {},
     "output_type": "execute_result"
    }
   ],
   "source": [
    "Livro1.codigo"
   ]
  },
  {
   "cell_type": "code",
   "execution_count": 6,
   "id": "ab076de2",
   "metadata": {},
   "outputs": [
    {
     "name": "stdout",
     "output_type": "stream",
     "text": [
      "Foi criado o livro Jogos Vorazes e volume 1\n"
     ]
    }
   ],
   "source": [
    "# método do objeto Livro1\n",
    "Livro1.imprime()"
   ]
  },
  {
   "cell_type": "code",
   "execution_count": 13,
   "id": "27f6091c",
   "metadata": {},
   "outputs": [],
   "source": [
    "# criando a classe Livro com parametros no método construtor\n",
    "class Livro():\n",
    "    def __init__(self, titulo, codigo):\n",
    "        self.titulo = titulo\n",
    "        self.codigo = codigo\n",
    "        print(\"Construtor chamado para criar um obejto desta classe\")\n",
    "        \n",
    "    def imprime(self, titulo, codigo):\n",
    "        print(\"Este é o livro %s e seu código é %d\" %(titulo, codigo))\n",
    "        "
   ]
  },
  {
   "cell_type": "code",
   "execution_count": 14,
   "id": "6199229f",
   "metadata": {},
   "outputs": [
    {
     "name": "stdout",
     "output_type": "stream",
     "text": [
      "Construtor chamado para criar um obejto desta classe\n",
      "Construtor chamado para criar um obejto desta classe\n",
      "Construtor chamado para criar um obejto desta classe\n"
     ]
    }
   ],
   "source": [
    "# criando novos objetos\n",
    "\n",
    "Livro1 = Livro(\"Jogos Vorazes\", 1)\n",
    "Livro2 = Livro(\"Storytelling com Dados\", 2)\n",
    "Livro3 = Livro(\"No Mundo da Lua\", 3)\n"
   ]
  },
  {
   "cell_type": "code",
   "execution_count": 15,
   "id": "23e587d4",
   "metadata": {},
   "outputs": [
    {
     "data": {
      "text/plain": [
       "'Storytelling com Dados'"
      ]
     },
     "execution_count": 15,
     "metadata": {},
     "output_type": "execute_result"
    }
   ],
   "source": [
    "Livro2.titulo"
   ]
  },
  {
   "cell_type": "code",
   "execution_count": 17,
   "id": "97fbe459",
   "metadata": {},
   "outputs": [
    {
     "name": "stdout",
     "output_type": "stream",
     "text": [
      "Este é o livro Stotytelling com Dados e seu código é 2\n"
     ]
    }
   ],
   "source": [
    "Livro2.imprime(\"Stotytelling com Dados\", 2)"
   ]
  },
  {
   "cell_type": "code",
   "execution_count": null,
   "id": "715d9fbf",
   "metadata": {},
   "outputs": [],
   "source": []
  }
 ],
 "metadata": {
  "kernelspec": {
   "display_name": "Python 3",
   "language": "python",
   "name": "python3"
  },
  "language_info": {
   "codemirror_mode": {
    "name": "ipython",
    "version": 3
   },
   "file_extension": ".py",
   "mimetype": "text/x-python",
   "name": "python",
   "nbconvert_exporter": "python",
   "pygments_lexer": "ipython3",
   "version": "3.8.8"
  }
 },
 "nbformat": 4,
 "nbformat_minor": 5
}
