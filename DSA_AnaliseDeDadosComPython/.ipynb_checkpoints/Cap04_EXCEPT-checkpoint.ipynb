{
 "cells": [
  {
   "cell_type": "markdown",
   "metadata": {},
   "source": [
    "# Erro e Exceção\n",
    "\n",
    "Para tratar exceções em Python, podemos usar a seguinte forma:\n",
    "\n",
    "<b>try:</b><br>\n",
    "&nbsp;&nbsp;&nbsp;&nbsp;    aqui vão as operações<br>\n",
    "<b>except</b> Exceção 1:<br>\n",
    "&nbsp;&nbsp;&nbsp;&nbsp;    Se houver a Exceção 1, execute este bloco<br>\n",
    "<b>except</b> Exceção 2:<br>\n",
    "&nbsp;&nbsp;&nbsp;&nbsp;    Se houver a Exceção 2, execute este bloco<br>\n",
    "<b>else:</b><br>\n",
    "&nbsp;&nbsp;&nbsp;&nbsp;    Se não houver exceção, excecute este bloco<br>\n"
   ]
  },
  {
   "cell_type": "markdown",
   "metadata": {},
   "source": [
    "<b>Finally</b><br>\n",
    "   Permite excecutar o código mesmo que exceções ocorram"
   ]
  }
 ],
 "metadata": {
  "kernelspec": {
   "display_name": "Python 3",
   "language": "python",
   "name": "python3"
  },
  "language_info": {
   "codemirror_mode": {
    "name": "ipython",
    "version": 3
   },
   "file_extension": ".py",
   "mimetype": "text/x-python",
   "name": "python",
   "nbconvert_exporter": "python",
   "pygments_lexer": "ipython3",
   "version": "3.8.5"
  }
 },
 "nbformat": 4,
 "nbformat_minor": 4
}
