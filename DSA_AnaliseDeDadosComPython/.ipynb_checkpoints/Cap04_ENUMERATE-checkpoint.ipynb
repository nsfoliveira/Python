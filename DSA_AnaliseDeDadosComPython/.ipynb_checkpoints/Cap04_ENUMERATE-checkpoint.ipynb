{
 "cells": [
  {
   "cell_type": "markdown",
   "metadata": {},
   "source": [
    "# Função ENUMERATE\n",
    "\n",
    "## enumerate(sequência)\n",
    "\n",
    "A função enuerate permite retornar o índice de cada valor em uma sequência, à medida que você percorre toda a sequência. Enumerate retorna uma <b>tupla</b> no formato <b>tupla(índice, valor)</b>"
   ]
  },
  {
   "cell_type": "code",
   "execution_count": 1,
   "metadata": {},
   "outputs": [],
   "source": [
    "# Criando uma lista\n",
    "seq = ['a', 'b', 'c']"
   ]
  },
  {
   "cell_type": "code",
   "execution_count": 2,
   "metadata": {},
   "outputs": [
    {
     "data": {
      "text/plain": [
       "<enumerate at 0x206214e1240>"
      ]
     },
     "execution_count": 2,
     "metadata": {},
     "output_type": "execute_result"
    }
   ],
   "source": [
    "enumerate(seq)"
   ]
  },
  {
   "cell_type": "code",
   "execution_count": 3,
   "metadata": {},
   "outputs": [
    {
     "data": {
      "text/plain": [
       "[(0, 'a'), (1, 'b'), (2, 'c')]"
      ]
     },
     "execution_count": 3,
     "metadata": {},
     "output_type": "execute_result"
    }
   ],
   "source": [
    "list(enumerate(seq))"
   ]
  },
  {
   "cell_type": "code",
   "execution_count": 4,
   "metadata": {},
   "outputs": [
    {
     "name": "stdout",
     "output_type": "stream",
     "text": [
      "0 a\n",
      "1 b\n",
      "2 c\n"
     ]
    }
   ],
   "source": [
    "# Imprimindo os valores de uma lista com a função enumerate() e seus respectivos índices\n",
    "for indice, valor in enumerate(seq):\n",
    "    print(indice, valor)"
   ]
  },
  {
   "cell_type": "code",
   "execution_count": 5,
   "metadata": {},
   "outputs": [
    {
     "name": "stdout",
     "output_type": "stream",
     "text": [
      "a\n",
      "b\n"
     ]
    }
   ],
   "source": [
    "for indice, valor in enumerate(seq):\n",
    "    if indice >= 2:\n",
    "        break\n",
    "    else:\n",
    "        print(valor)\n"
   ]
  },
  {
   "cell_type": "code",
   "execution_count": 6,
   "metadata": {},
   "outputs": [],
   "source": [
    "lista = ['Natalia', 'Marco', 'Dilminha']"
   ]
  },
  {
   "cell_type": "code",
   "execution_count": 8,
   "metadata": {},
   "outputs": [
    {
     "name": "stdout",
     "output_type": "stream",
     "text": [
      "1 Natalia\n",
      "2 Marco\n",
      "3 Dilminha\n"
     ]
    }
   ],
   "source": [
    "for i, item in enumerate(lista):\n",
    "    print(i+1, item)"
   ]
  },
  {
   "cell_type": "code",
   "execution_count": 9,
   "metadata": {},
   "outputs": [
    {
     "name": "stdout",
     "output_type": "stream",
     "text": [
      "0 A\n",
      "1 s\n",
      "2  \n",
      "3 a\n",
      "4 r\n",
      "5 v\n",
      "6 o\n",
      "7 r\n",
      "8 e\n",
      "9 s\n",
      "10  \n",
      "11 s\n",
      "12 o\n",
      "13 m\n",
      "14 o\n",
      "15 s\n",
      "16  \n",
      "17 n\n",
      "18 o\n",
      "19 z\n",
      "20 e\n",
      "21 s\n"
     ]
    }
   ],
   "source": [
    "for i, item in enumerate('As arvores somos nozes'):\n",
    "    print(i, item)"
   ]
  },
  {
   "cell_type": "code",
   "execution_count": 14,
   "metadata": {},
   "outputs": [
    {
     "name": "stdout",
     "output_type": "stream",
     "text": [
      "0 -10\n",
      "1 -9\n",
      "2 -8\n",
      "3 -7\n",
      "4 -6\n",
      "5 -5\n",
      "6 -4\n",
      "7 -3\n",
      "8 -2\n",
      "9 -1\n"
     ]
    }
   ],
   "source": [
    "for i, item in enumerate(range(10)):\n",
    "    print(i, item - 10)"
   ]
  },
  {
   "cell_type": "markdown",
   "metadata": {},
   "source": [
    "## Fim"
   ]
  }
 ],
 "metadata": {
  "kernelspec": {
   "display_name": "Python 3",
   "language": "python",
   "name": "python3"
  },
  "language_info": {
   "codemirror_mode": {
    "name": "ipython",
    "version": 3
   },
   "file_extension": ".py",
   "mimetype": "text/x-python",
   "name": "python",
   "nbconvert_exporter": "python",
   "pygments_lexer": "ipython3",
   "version": "3.8.5"
  }
 },
 "nbformat": 4,
 "nbformat_minor": 4
}
