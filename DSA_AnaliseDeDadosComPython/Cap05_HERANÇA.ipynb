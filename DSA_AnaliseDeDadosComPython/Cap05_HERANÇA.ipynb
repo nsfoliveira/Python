{
 "cells": [
  {
   "cell_type": "markdown",
   "id": "e85486a8",
   "metadata": {},
   "source": [
    "# Herança\n",
    "\n",
    "Herança é uma forma de definir novas classes, usandos classes que foram definidas previamente. Estas novas classes são chamadas de <b>classes derivadas</b> ou <b>sub-classes</b>. Já a classe que deu orgiem a sub-classe é chamada de  <b>super-classe</b> ou <b>classe base</b>."
   ]
  },
  {
   "cell_type": "code",
   "execution_count": null,
   "id": "6c14f33d",
   "metadata": {},
   "outputs": [],
   "source": []
  }
 ],
 "metadata": {
  "kernelspec": {
   "display_name": "Python 3",
   "language": "python",
   "name": "python3"
  },
  "language_info": {
   "codemirror_mode": {
    "name": "ipython",
    "version": 3
   },
   "file_extension": ".py",
   "mimetype": "text/x-python",
   "name": "python",
   "nbconvert_exporter": "python",
   "pygments_lexer": "ipython3",
   "version": "3.8.8"
  }
 },
 "nbformat": 4,
 "nbformat_minor": 5
}
