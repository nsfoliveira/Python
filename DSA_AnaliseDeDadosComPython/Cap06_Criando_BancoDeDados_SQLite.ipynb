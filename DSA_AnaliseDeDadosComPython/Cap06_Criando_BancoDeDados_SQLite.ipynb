{
 "cells": [
  {
   "cell_type": "markdown",
   "id": "2d59a3b1-e462-4c1f-ae4b-ba8babadc99f",
   "metadata": {},
   "source": [
    "## Acessando banco de dados com Python"
   ]
  },
  {
   "cell_type": "code",
   "execution_count": 2,
   "id": "dfe10cfa-a036-427b-ad1a-62a82b171018",
   "metadata": {},
   "outputs": [],
   "source": [
    "# Remove o arquivo com o bando de dados SQLite caso ele já exista\n",
    "import os\n",
    "os.remove('escola.db') if os.path.exists('escola.db') else None"
   ]
  },
  {
   "cell_type": "code",
   "execution_count": 3,
   "id": "df89e6f0-27eb-4fdd-b3f6-371ac2c1066d",
   "metadata": {},
   "outputs": [],
   "source": [
    "# Importando o módulo de acesso ao SQLite\n",
    "import sqlite3"
   ]
  },
  {
   "cell_type": "code",
   "execution_count": 4,
   "id": "cd9cb90f-b38e-493b-93b0-90874a71c95d",
   "metadata": {},
   "outputs": [],
   "source": [
    "# Cria uma conexão com o banco de dados \n",
    "# Se o BD não existir ele é criado neste momento \n",
    "con = sqlite3.connect('escola.db')"
   ]
  },
  {
   "cell_type": "code",
   "execution_count": 5,
   "id": "c7f88647-2c8f-4bc6-a5ce-82f3152b95a9",
   "metadata": {},
   "outputs": [
    {
     "data": {
      "text/plain": [
       "sqlite3.Connection"
      ]
     },
     "execution_count": 5,
     "metadata": {},
     "output_type": "execute_result"
    }
   ],
   "source": [
    "type(con)"
   ]
  },
  {
   "cell_type": "code",
   "execution_count": 6,
   "id": "66589c69-78ef-4c5f-b905-93e91810f59d",
   "metadata": {},
   "outputs": [],
   "source": [
    "# Criando um cursor\n",
    "# (Um cursor permite percorrer todos os registros em um conjunto de dados)\n",
    "cur = con.cursor()"
   ]
  },
  {
   "cell_type": "code",
   "execution_count": 7,
   "id": "18dc46d8-dedf-430b-ad3e-9a8e4a44e1a7",
   "metadata": {},
   "outputs": [
    {
     "data": {
      "text/plain": [
       "sqlite3.Cursor"
      ]
     },
     "execution_count": 7,
     "metadata": {},
     "output_type": "execute_result"
    }
   ],
   "source": [
    "type(cur)"
   ]
  },
  {
   "cell_type": "code",
   "execution_count": 8,
   "id": "41e9a003-e69e-495e-b794-991fb4107bc9",
   "metadata": {},
   "outputs": [],
   "source": [
    "# Cria uma instruçao sql\n",
    "sql_create = 'create table cursos '\\\n",
    "'(id integer primary key, '\\\n",
    "'titulo varchar(100), '\\\n",
    "'categoria varchar(140))'"
   ]
  },
  {
   "cell_type": "code",
   "execution_count": 9,
   "id": "0275c6cf-a78b-40e8-837e-96058cacd0f8",
   "metadata": {},
   "outputs": [
    {
     "data": {
      "text/plain": [
       "<sqlite3.Cursor at 0x29f5eb79340>"
      ]
     },
     "execution_count": 9,
     "metadata": {},
     "output_type": "execute_result"
    }
   ],
   "source": [
    "# Executando a instrução sql no cursor\n",
    "cur.execute(sql_create)"
   ]
  },
  {
   "cell_type": "code",
   "execution_count": 10,
   "id": "198d21a5-6035-4b61-a106-51c742fdd89d",
   "metadata": {},
   "outputs": [],
   "source": [
    "# Criando outra instrução sql para inserir registros\n",
    "sql_insert = 'insert into cursos values (?, ?, ?)'"
   ]
  },
  {
   "cell_type": "code",
   "execution_count": 11,
   "id": "56e79ec9-194a-4f91-b8e9-2ca844a96b6a",
   "metadata": {},
   "outputs": [],
   "source": [
    "# Dados\n",
    "recset = [(1000, 'Ciência de Dados', 'Data Science'),\n",
    "         (1001, 'Big Data Fundamentos', 'Big Data'),\n",
    "         (1002, 'Python Fundamentos', 'Análise de Dados')]"
   ]
  },
  {
   "cell_type": "code",
   "execution_count": 12,
   "id": "1c83ca95-da93-4e19-b986-909cfd2cbee4",
   "metadata": {},
   "outputs": [],
   "source": [
    "#Inserindo os registros\n",
    "for rec in recset:\n",
    "    cur.execute(sql_insert, rec)"
   ]
  },
  {
   "cell_type": "code",
   "execution_count": 13,
   "id": "c9dd4203-6da3-4e6c-be10-f18e98f38d52",
   "metadata": {},
   "outputs": [],
   "source": [
    "# grava a transação\n",
    "con.commit()"
   ]
  },
  {
   "cell_type": "code",
   "execution_count": 14,
   "id": "41c5243d-0780-4fe8-a780-c373f672a121",
   "metadata": {},
   "outputs": [],
   "source": [
    "# criando outra instrução sql para selecionar registros\n",
    "sql_select = 'select * from cursos'"
   ]
  },
  {
   "cell_type": "code",
   "execution_count": 16,
   "id": "f1e57049-4d68-4f49-922d-312bb701d0ad",
   "metadata": {},
   "outputs": [],
   "source": [
    "# seleciona todos os registros e recupera os registros\n",
    "cur.execute(sql_select)\n",
    "dados = cur.fetchall()"
   ]
  },
  {
   "cell_type": "code",
   "execution_count": 17,
   "id": "e8411e45-4d45-42a0-986b-40c903cfd3d2",
   "metadata": {},
   "outputs": [
    {
     "name": "stdout",
     "output_type": "stream",
     "text": [
      "Curso Id: 1000, Título: Ciência de Dados, Categoria: Data Science \n",
      "\n",
      "Curso Id: 1001, Título: Big Data Fundamentos, Categoria: Big Data \n",
      "\n",
      "Curso Id: 1002, Título: Python Fundamentos, Categoria: Análise de Dados \n",
      "\n"
     ]
    }
   ],
   "source": [
    "# mostra\n",
    "for linha in dados:\n",
    "    print('Curso Id: %d, Título: %s, Categoria: %s \\n' % linha)"
   ]
  },
  {
   "cell_type": "code",
   "execution_count": 18,
   "id": "27e80828-a6a3-4e86-af84-cdda7ce71218",
   "metadata": {},
   "outputs": [],
   "source": [
    "# inserindo mais alguns registos\n",
    "recset = [(1003, 'Gestão de Dados em MongoDB', 'Bid Data'),\n",
    "         (1004, 'R fundamentos', 'Análise de Dados')]\n",
    "\n",
    "# inserindo os registos\n",
    "for rec in recset:\n",
    "    cur.execute(sql_insert, rec)\n",
    "    \n",
    "# Gravando a Transação\n",
    "con.commit()"
   ]
  },
  {
   "cell_type": "code",
   "execution_count": 19,
   "id": "9a14ab0a-a179-42e7-950f-141141fe5342",
   "metadata": {},
   "outputs": [
    {
     "name": "stdout",
     "output_type": "stream",
     "text": [
      "Curso Id: 1000, Título: Ciência de Dados, Categoria: Data Science \n",
      "\n",
      "Curso Id: 1001, Título: Big Data Fundamentos, Categoria: Big Data \n",
      "\n",
      "Curso Id: 1002, Título: Python Fundamentos, Categoria: Análise de Dados \n",
      "\n",
      "Curso Id: 1003, Título: Gestão de Dados em MongoDB, Categoria: Bid Data \n",
      "\n",
      "Curso Id: 1004, Título: R fundamentos, Categoria: Análise de Dados \n",
      "\n"
     ]
    }
   ],
   "source": [
    "#selecionando todos os registros\n",
    "cur.execute(sql_select)\n",
    "\n",
    "#Recuperanod os resultados\n",
    "dados = cur.fetchall()\n",
    "\n",
    "#Mostra\n",
    "for linha in dados:\n",
    "    print('Curso Id: %d, Título: %s, Categoria: %s \\n' % linha)"
   ]
  },
  {
   "cell_type": "code",
   "execution_count": 20,
   "id": "f0af9880-6643-4dbd-a797-cd2cc8ba4398",
   "metadata": {},
   "outputs": [],
   "source": [
    "# Fechando a conexão\n",
    "con.close()"
   ]
  },
  {
   "cell_type": "code",
   "execution_count": null,
   "id": "c1ddb17f-f29c-402e-b68e-1518b3cfae1b",
   "metadata": {},
   "outputs": [],
   "source": []
  }
 ],
 "metadata": {
  "kernelspec": {
   "display_name": "Python 3",
   "language": "python",
   "name": "python3"
  },
  "language_info": {
   "codemirror_mode": {
    "name": "ipython",
    "version": 3
   },
   "file_extension": ".py",
   "mimetype": "text/x-python",
   "name": "python",
   "nbconvert_exporter": "python",
   "pygments_lexer": "ipython3",
   "version": "3.8.8"
  }
 },
 "nbformat": 4,
 "nbformat_minor": 5
}
