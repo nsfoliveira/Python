{
 "cells": [
  {
   "cell_type": "code",
   "execution_count": 1,
   "id": "9070b69c",
   "metadata": {},
   "outputs": [],
   "source": [
    "# Criando a Classe Livro\n",
    "class Livro():\n",
    "    def __init__(self, titulo, autor, paginas, genero):\n",
    "        print(\"Livro criado!\")\n",
    "        self.titulo = titulo\n",
    "        self.autor = autor\n",
    "        self.paginas = paginas\n",
    "        self.genero = genero\n",
    "        \n",
    "    def __str__(self): # é chamado quando chamamos a função print!\n",
    "        return\"Tístulo: %s , autor: %s , páginas: %d , gênero: %s \" \\\n",
    "    %(self.titulo, self.autor, self.paginas, self.genero)\n",
    "    \n",
    "    def __len__(self):\n",
    "        return self.paginas\n",
    "    \n",
    "    def len(self):\n",
    "        return print(\"Páginas do livro com método comum: \", self.paginas)"
   ]
  },
  {
   "cell_type": "code",
   "execution_count": 2,
   "id": "0f399b6c",
   "metadata": {},
   "outputs": [
    {
     "name": "stdout",
     "output_type": "stream",
     "text": [
      "Livro criado!\n"
     ]
    }
   ],
   "source": [
    "Livro1 = Livro(\"No mundo da Lua\", \"Dr Paulo Mattos\", 270, \"Psiquiatria\")"
   ]
  },
  {
   "cell_type": "markdown",
   "id": "903a2d65",
   "metadata": {},
   "source": [
    "### Usando os Métodos Especiais"
   ]
  },
  {
   "cell_type": "code",
   "execution_count": 3,
   "id": "739ba776",
   "metadata": {},
   "outputs": [
    {
     "name": "stdout",
     "output_type": "stream",
     "text": [
      "Tístulo: No mundo da Lua , autor: Dr Paulo Mattos , páginas: 270 , gênero: Psiquiatria \n"
     ]
    }
   ],
   "source": [
    "print(Livro1)"
   ]
  },
  {
   "cell_type": "code",
   "execution_count": 4,
   "id": "531b86f0",
   "metadata": {},
   "outputs": [
    {
     "data": {
      "text/plain": [
       "'Tístulo: No mundo da Lua , autor: Dr Paulo Mattos , páginas: 270 , gênero: Psiquiatria '"
      ]
     },
     "execution_count": 4,
     "metadata": {},
     "output_type": "execute_result"
    }
   ],
   "source": [
    "str(Livro1)"
   ]
  },
  {
   "cell_type": "code",
   "execution_count": 5,
   "id": "797347de",
   "metadata": {},
   "outputs": [
    {
     "data": {
      "text/plain": [
       "270"
      ]
     },
     "execution_count": 5,
     "metadata": {},
     "output_type": "execute_result"
    }
   ],
   "source": [
    "len(Livro1)"
   ]
  },
  {
   "cell_type": "code",
   "execution_count": 6,
   "id": "777597de",
   "metadata": {},
   "outputs": [
    {
     "name": "stdout",
     "output_type": "stream",
     "text": [
      "Páginas do livro com método comum:  270\n"
     ]
    }
   ],
   "source": [
    "Livro1.len()"
   ]
  }
 ],
 "metadata": {
  "kernelspec": {
   "display_name": "Python 3",
   "language": "python",
   "name": "python3"
  },
  "language_info": {
   "codemirror_mode": {
    "name": "ipython",
    "version": 3
   },
   "file_extension": ".py",
   "mimetype": "text/x-python",
   "name": "python",
   "nbconvert_exporter": "python",
   "pygments_lexer": "ipython3",
   "version": "3.8.8"
  }
 },
 "nbformat": 4,
 "nbformat_minor": 5
}
