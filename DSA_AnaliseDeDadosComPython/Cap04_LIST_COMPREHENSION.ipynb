{
 "cells": [
  {
   "cell_type": "markdown",
   "metadata": {},
   "source": [
    "# Função LIST COMPREHENSION\n",
    "\n",
    "LIST COMPREHENSION aplica uma expressão arbitrária (ao invés de aplicar apenas uma função) a uma sequência de elementos. Ele permite desenvolver listas usando uma notação diferente. Seria essencialmente uma linha de loop for, construída denteo de [].\n",
    "Exemplo:\n",
    "<b>lst = [x for x in \"sequência\"]</b>\n",
    "Normalmente usamos loop for quando trabalhamos com funções map() e usamos list comprehension quando está for mais fácil de ser aplicada. No entando, há uma vantagem substâncial de desemprenho ao utilizar list comprehension"
   ]
  }
 ],
 "metadata": {
  "kernelspec": {
   "display_name": "Python 3",
   "language": "python",
   "name": "python3"
  },
  "language_info": {
   "codemirror_mode": {
    "name": "ipython",
    "version": 3
   },
   "file_extension": ".py",
   "mimetype": "text/x-python",
   "name": "python",
   "nbconvert_exporter": "python",
   "pygments_lexer": "ipython3",
   "version": "3.8.5"
  }
 },
 "nbformat": 4,
 "nbformat_minor": 4
}
