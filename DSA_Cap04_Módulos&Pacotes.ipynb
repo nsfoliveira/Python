{
  "nbformat": 4,
  "nbformat_minor": 0,
  "metadata": {
    "colab": {
      "name": "DSA_Cap04_Módulos&Pacotes",
      "provenance": [],
      "authorship_tag": "ABX9TyN27Yvsk2HVRdnO5nmTIhUI",
      "include_colab_link": true
    },
    "kernelspec": {
      "name": "python3",
      "display_name": "Python 3"
    },
    "language_info": {
      "name": "python"
    }
  },
  "cells": [
    {
      "cell_type": "markdown",
      "metadata": {
        "id": "view-in-github",
        "colab_type": "text"
      },
      "source": [
        "<a href=\"https://colab.research.google.com/github/nsfoliveira/Python/blob/main/DSA_Cap04_M%C3%B3dulos%26Pacotes.ipynb\" target=\"_parent\"><img src=\"https://colab.research.google.com/assets/colab-badge.svg\" alt=\"Open In Colab\"/></a>"
      ]
    },
    {
      "cell_type": "code",
      "metadata": {
        "id": "88jwxEErGBHw"
      },
      "source": [
        "#criando uma função\n",
        "\n",
        "def verificaPar(num):\n",
        "  if num % 2 == 0:\n",
        "    return True\n",
        "  else:\n",
        "    return False"
      ],
      "execution_count": 1,
      "outputs": []
    }
  ]
}