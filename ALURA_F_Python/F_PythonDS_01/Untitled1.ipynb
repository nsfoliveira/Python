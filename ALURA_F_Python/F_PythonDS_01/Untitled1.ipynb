{
 "cells": [
  {
   "cell_type": "markdown",
   "id": "3e009c7f-c54a-4d5e-b421-5b5abf0483c2",
   "metadata": {},
   "source": [
    "# 📝 Atividade Avaliativa 2 (AT2) - Etapa 3 - Envio final\n"
   ]
  },
  {
   "cell_type": "markdown",
   "id": "9a428ed0-17bd-4f76-910f-49d6c5275445",
   "metadata": {},
   "source": [
    "A Média Móvel é um estimador usado frequentemente para suavizar flutuações curtas e destacar tendências a longo prazo em séries temporais. Durante a pandemia de Covid-19 a média móvel dos últimos 7 dias do número de casos e mortes causadas pelo vírus tem sido comumente utilizada. Para calcular a média móvel dos últimos 7 dias utiliza-se a média aritmética desses valores. Sua tarefa neste problema é escrever um programa em Python para determinar a média móvel dos casos de Covid-19 nos últimos 7.\n",
    "\n",
    "\n",
    "Entrada: A entrada é composta por uma linha com 7 números inteiros positivos separados por um espaço em branco.\n",
    "\n",
    "\n",
    "Saída: Seu programa deve gerar uma única linha contendo um inteiro, representando a média móvel dos 7 valores da entrada arredondada para o inteiro mais próximo."
   ]
  },
  {
   "cell_type": "markdown",
   "id": "9665d0ff-1b25-49b2-83b2-10708bf1b091",
   "metadata": {},
   "source": [
    "## Grupo 07\n",
    "\n",
    "##### ANA CAROLINA SCARANARI SILVA\n",
    "##### DOUGLAS FABRIZZIO CAMARGO FERREIRA \n",
    "##### LUARA SOARES CONTESINI \n",
    "##### NATALIA SILVA FREITAS OLIVEIRA ."
   ]
  },
  {
   "cell_type": "markdown",
   "id": "29f59084-5fb0-49d7-b054-a5a9e7e0145f",
   "metadata": {},
   "source": [
    "## Definindo a função"
   ]
  },
  {
   "cell_type": "code",
   "execution_count": 1,
   "id": "bad30598-2422-4205-b6be-eb59e3284002",
   "metadata": {},
   "outputs": [],
   "source": [
    "def med_mov(casos, dias):\n",
    "    resultado = casos / dias\n",
    "    print(round(resultado))\n"
   ]
  },
  {
   "cell_type": "markdown",
   "id": "20c64b90-f311-443e-bcd2-f96df1c43349",
   "metadata": {},
   "source": [
    "## Definindo as variáveis de entrada"
   ]
  },
  {
   "cell_type": "code",
   "execution_count": 2,
   "id": "87eef18e-9860-443c-888d-da903c9ee8a0",
   "metadata": {},
   "outputs": [],
   "source": [
    "casos = [1471, 1307, 700, 359, 946, 1558, 1847]\n",
    "medias = sum(casos)\n",
    "dias = 7"
   ]
  },
  {
   "cell_type": "markdown",
   "id": "d92d27a1-0af4-4120-8d2b-0faf464a21d4",
   "metadata": {},
   "source": [
    "## Chamando a função e passando os parâmetros"
   ]
  },
  {
   "cell_type": "code",
   "execution_count": 3,
   "id": "f1f33ac2-5b7f-4ec3-8762-5149cf08f897",
   "metadata": {},
   "outputs": [
    {
     "name": "stdout",
     "output_type": "stream",
     "text": [
      "1170\n"
     ]
    }
   ],
   "source": [
    "med_mov(medias, dias)"
   ]
  }
 ],
 "metadata": {
  "kernelspec": {
   "display_name": "Python 3",
   "language": "python",
   "name": "python3"
  },
  "language_info": {
   "codemirror_mode": {
    "name": "ipython",
    "version": 3
   },
   "file_extension": ".py",
   "mimetype": "text/x-python",
   "name": "python",
   "nbconvert_exporter": "python",
   "pygments_lexer": "ipython3",
   "version": "3.8.8"
  }
 },
 "nbformat": 4,
 "nbformat_minor": 5
}
