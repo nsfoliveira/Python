{
 "cells": [
  {
   "cell_type": "markdown",
   "id": "8844087f-eac1-4269-b351-89c86de7ea44",
   "metadata": {},
   "source": [
    "# Criando a primeira função simples"
   ]
  },
  {
   "cell_type": "code",
   "execution_count": 1,
   "id": "f62c1cb4-688b-4602-a606-ca891fd8ca12",
   "metadata": {},
   "outputs": [],
   "source": [
    "# definindo a função\n",
    "def saudacao():\n",
    "    nome = input('Qual seu nome? ')\n",
    "    print('Olá, meu nome é ', (nome))"
   ]
  },
  {
   "cell_type": "code",
   "execution_count": 3,
   "id": "e5fbb010-23e8-4af4-8d3e-74b9eb4d436a",
   "metadata": {},
   "outputs": [
    {
     "name": "stdin",
     "output_type": "stream",
     "text": [
      "Qual seu nome?  natalia\n"
     ]
    },
    {
     "name": "stdout",
     "output_type": "stream",
     "text": [
      "Olá, meu nome é  natalia\n"
     ]
    }
   ],
   "source": [
    "# executando\n",
    "saudacao()"
   ]
  },
  {
   "cell_type": "code",
   "execution_count": 4,
   "id": "9520ee84-9892-45b4-bb6f-c6f030621427",
   "metadata": {},
   "outputs": [
    {
     "name": "stdin",
     "output_type": "stream",
     "text": [
      "Qual seu primeiro nome?  natalia\n",
      "Qual seu sobrenome?  oliveira\n"
     ]
    },
    {
     "name": "stdout",
     "output_type": "stream",
     "text": [
      "natalia oliveira\n"
     ]
    }
   ],
   "source": [
    "def nome_completo():\n",
    " primeiro_nome = input('Qual seu primeiro nome? ')\n",
    " sobrenome = input('Qual seu sobrenome? ')\n",
    " nome_inteiro = primeiro_nome + ' ' + sobrenome\n",
    " print(nome_inteiro)\n",
    "\n",
    "nome_completo()"
   ]
  },
  {
   "cell_type": "code",
   "execution_count": 5,
   "id": "306e05ab-0925-4675-bc7f-2ec531d6e4da",
   "metadata": {},
   "outputs": [],
   "source": [
    "# refazendo função saudação com a variavel nome fora da função\n",
    "\n",
    "def saudacaoComParametro(nome_pessoa):\n",
    "    print('Olá ', nome_pessoa)"
   ]
  },
  {
   "cell_type": "code",
   "execution_count": 7,
   "id": "7327a399-8755-4fb2-a381-520ef94fd8df",
   "metadata": {},
   "outputs": [
    {
     "name": "stdin",
     "output_type": "stream",
     "text": [
      "Qual seu nome?  natalia\n"
     ]
    }
   ],
   "source": [
    "nome = input('Qual seu nome? ')"
   ]
  },
  {
   "cell_type": "code",
   "execution_count": 8,
   "id": "ca8e566d-3591-405c-86ab-c9df52021448",
   "metadata": {},
   "outputs": [
    {
     "name": "stdout",
     "output_type": "stream",
     "text": [
      "Olá  natalia\n"
     ]
    }
   ],
   "source": [
    "saudacaoComParametro(nome)"
   ]
  },
  {
   "cell_type": "code",
   "execution_count": 1,
   "id": "cbcc58b8-e905-42bc-82dc-8b121dbe3b53",
   "metadata": {},
   "outputs": [],
   "source": [
    "# usando condição\n",
    "def podeDirigir(idade):\n",
    "    if idade >= 18:\n",
    "        print('Sim, pode dirigir')\n",
    "    else:\n",
    "        print('Não, não pode dirigir')"
   ]
  },
  {
   "cell_type": "code",
   "execution_count": 2,
   "id": "fdfc1036-12b3-42d4-954b-36f43f62691e",
   "metadata": {},
   "outputs": [
    {
     "name": "stdin",
     "output_type": "stream",
     "text": [
      "Qual a sua idade:? 30\n"
     ]
    }
   ],
   "source": [
    "suaIdade = int(input('Qual a sua idade:?'))\n"
   ]
  },
  {
   "cell_type": "code",
   "execution_count": 3,
   "id": "b5904647-28bc-4739-9987-f02896e7e573",
   "metadata": {},
   "outputs": [
    {
     "data": {
      "text/plain": [
       "30"
      ]
     },
     "execution_count": 3,
     "metadata": {},
     "output_type": "execute_result"
    }
   ],
   "source": [
    "suaIdade"
   ]
  },
  {
   "cell_type": "code",
   "execution_count": 4,
   "id": "1969c801-3151-4393-be8e-0f0930097142",
   "metadata": {},
   "outputs": [
    {
     "name": "stdout",
     "output_type": "stream",
     "text": [
      "Sim, pode dirigir\n"
     ]
    }
   ],
   "source": [
    "podeDirigir(suaIdade)"
   ]
  },
  {
   "cell_type": "code",
   "execution_count": null,
   "id": "028d0cc1-222d-404e-90e5-f965c096b1bb",
   "metadata": {},
   "outputs": [],
   "source": []
  }
 ],
 "metadata": {
  "kernelspec": {
   "display_name": "Python 3",
   "language": "python",
   "name": "python3"
  },
  "language_info": {
   "codemirror_mode": {
    "name": "ipython",
    "version": 3
   },
   "file_extension": ".py",
   "mimetype": "text/x-python",
   "name": "python",
   "nbconvert_exporter": "python",
   "pygments_lexer": "ipython3",
   "version": "3.8.8"
  }
 },
 "nbformat": 4,
 "nbformat_minor": 5
}
