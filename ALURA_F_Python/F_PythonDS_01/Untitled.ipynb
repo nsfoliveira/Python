{
 "cells": [
  {
   "cell_type": "code",
   "execution_count": 33,
   "id": "e156bfb8-6eb9-4f14-984b-8dcc11c7c96f",
   "metadata": {},
   "outputs": [],
   "source": [
    "casos = [1471, 1307, 700, 359, 946, 1558, 1847]"
   ]
  },
  {
   "cell_type": "code",
   "execution_count": 34,
   "id": "f383087c-beca-42b2-95b4-f37e8273c184",
   "metadata": {},
   "outputs": [
    {
     "data": {
      "text/plain": [
       "[1471, 1307, 700, 359, 946, 1558, 1847]"
      ]
     },
     "execution_count": 34,
     "metadata": {},
     "output_type": "execute_result"
    }
   ],
   "source": [
    "casos"
   ]
  },
  {
   "cell_type": "code",
   "execution_count": 35,
   "id": "b0db3af5-809d-43bd-9906-c918908f5ace",
   "metadata": {},
   "outputs": [],
   "source": [
    "j = int(0)\n",
    "i = 0\n",
    "calc = 0\n",
    "med_mov = []\n",
    "desloc = 1"
   ]
  },
  {
   "cell_type": "code",
   "execution_count": 36,
   "id": "0d232d31-eaf3-4713-9d59-47b4974cdb27",
   "metadata": {},
   "outputs": [
    {
     "name": "stdout",
     "output_type": "stream",
     "text": [
      "7\n"
     ]
    }
   ],
   "source": [
    "print(len(casos))"
   ]
  },
  {
   "cell_type": "code",
   "execution_count": 41,
   "id": "06215941-d528-495d-96c0-d45607f810fd",
   "metadata": {},
   "outputs": [
    {
     "ename": "IndexError",
     "evalue": "list index out of range",
     "output_type": "error",
     "traceback": [
      "\u001b[1;31m---------------------------------------------------------------------------\u001b[0m",
      "\u001b[1;31mIndexError\u001b[0m                                Traceback (most recent call last)",
      "\u001b[1;32m<ipython-input-41-4907e014f4ef>\u001b[0m in \u001b[0;36m<module>\u001b[1;34m\u001b[0m\n\u001b[0;32m      2\u001b[0m     \u001b[0mcalc\u001b[0m \u001b[1;33m=\u001b[0m \u001b[0mcasos\u001b[0m\u001b[1;33m[\u001b[0m\u001b[0mi\u001b[0m\u001b[1;33m]\u001b[0m\u001b[1;33m\u001b[0m\u001b[1;33m\u001b[0m\u001b[0m\n\u001b[0;32m      3\u001b[0m     \u001b[1;32mif\u001b[0m \u001b[0mj\u001b[0m \u001b[1;33m<\u001b[0m \u001b[0mlen\u001b[0m\u001b[1;33m(\u001b[0m\u001b[0mcasos\u001b[0m\u001b[1;33m)\u001b[0m\u001b[1;33m:\u001b[0m\u001b[1;33m\u001b[0m\u001b[1;33m\u001b[0m\u001b[0m\n\u001b[1;32m----> 4\u001b[1;33m         \u001b[0mcalc\u001b[0m \u001b[1;33m=\u001b[0m \u001b[0mcalc\u001b[0m \u001b[1;33m+\u001b[0m \u001b[0mcasos\u001b[0m\u001b[1;33m[\u001b[0m\u001b[0mj\u001b[0m \u001b[1;33m+\u001b[0m \u001b[0mdesloc\u001b[0m\u001b[1;33m]\u001b[0m\u001b[1;33m\u001b[0m\u001b[1;33m\u001b[0m\u001b[0m\n\u001b[0m\u001b[0;32m      5\u001b[0m         \u001b[0mmed\u001b[0m \u001b[1;33m=\u001b[0m \u001b[0mcalc\u001b[0m \u001b[1;33m/\u001b[0m \u001b[1;36m2\u001b[0m\u001b[1;33m\u001b[0m\u001b[1;33m\u001b[0m\u001b[0m\n\u001b[0;32m      6\u001b[0m         \u001b[0mmed_mov\u001b[0m\u001b[1;33m.\u001b[0m\u001b[0mappend\u001b[0m\u001b[1;33m(\u001b[0m\u001b[0mmed\u001b[0m\u001b[1;33m)\u001b[0m\u001b[1;33m\u001b[0m\u001b[1;33m\u001b[0m\u001b[0m\n",
      "\u001b[1;31mIndexError\u001b[0m: list index out of range"
     ]
    }
   ],
   "source": [
    "for i in range(len(casos)):\n",
    "    calc = casos[i]\n",
    "    if j < len(casos):\n",
    "        calc = calc + casos[j + desloc]\n",
    "        med = calc / 2\n",
    "        med_mov.append(med)\n",
    "        j += 1\n",
    "    "
   ]
  },
  {
   "cell_type": "code",
   "execution_count": 38,
   "id": "2591dd6e-4c0d-49fa-942b-45b26e9777a4",
   "metadata": {},
   "outputs": [
    {
     "name": "stdout",
     "output_type": "stream",
     "text": [
      "1577.0\n"
     ]
    }
   ],
   "source": [
    "if j < len(casos):\n",
    "        calc = calc + casos[j + desloc]\n",
    "        med = calc / 2\n",
    "        med_mov.append(med)\n",
    "        j += 1\n",
    "   \n",
    "print(med)\n"
   ]
  },
  {
   "cell_type": "code",
   "execution_count": null,
   "id": "b63e11d6-f40e-4892-a9c9-973c98a3edc8",
   "metadata": {},
   "outputs": [],
   "source": []
  },
  {
   "cell_type": "code",
   "execution_count": null,
   "id": "56423dc3-028a-4f28-98d5-38613cf08ac2",
   "metadata": {},
   "outputs": [],
   "source": []
  },
  {
   "cell_type": "code",
   "execution_count": null,
   "id": "eaca4caf-55fb-4158-9c93-46638649091a",
   "metadata": {},
   "outputs": [],
   "source": []
  },
  {
   "cell_type": "code",
   "execution_count": null,
   "id": "3122a872-887d-4e35-a50e-7d1db5e9f043",
   "metadata": {},
   "outputs": [],
   "source": []
  },
  {
   "cell_type": "code",
   "execution_count": null,
   "id": "47caa6b1-cf9f-48e6-8e07-81a6946cdf89",
   "metadata": {},
   "outputs": [],
   "source": []
  }
 ],
 "metadata": {
  "kernelspec": {
   "display_name": "Python 3",
   "language": "python",
   "name": "python3"
  },
  "language_info": {
   "codemirror_mode": {
    "name": "ipython",
    "version": 3
   },
   "file_extension": ".py",
   "mimetype": "text/x-python",
   "name": "python",
   "nbconvert_exporter": "python",
   "pygments_lexer": "ipython3",
   "version": "3.8.8"
  }
 },
 "nbformat": 4,
 "nbformat_minor": 5
}
