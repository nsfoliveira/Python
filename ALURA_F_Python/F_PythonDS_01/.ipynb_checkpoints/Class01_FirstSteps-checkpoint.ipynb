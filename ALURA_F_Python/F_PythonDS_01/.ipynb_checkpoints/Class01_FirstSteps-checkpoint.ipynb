{
 "cells": [
  {
   "cell_type": "markdown",
   "id": "8844087f-eac1-4269-b351-89c86de7ea44",
   "metadata": {},
   "source": [
    "# Primeiros passos com Python\n",
    "\n",
    "revisando alguns conceitos "
   ]
  },
  {
   "cell_type": "code",
   "execution_count": 1,
   "id": "f62c1cb4-688b-4602-a606-ca891fd8ca12",
   "metadata": {},
   "outputs": [],
   "source": [
    "# definindo a função\n",
    "def saudacao():\n",
    "    nome = input('Qual seu nome? ')\n",
    "    print('Olá, meu nome é ', (nome))"
   ]
  },
  {
   "cell_type": "code",
   "execution_count": 3,
   "id": "e5fbb010-23e8-4af4-8d3e-74b9eb4d436a",
   "metadata": {},
   "outputs": [
    {
     "name": "stdin",
     "output_type": "stream",
     "text": [
      "Qual seu nome?  natalia\n"
     ]
    },
    {
     "name": "stdout",
     "output_type": "stream",
     "text": [
      "Olá, meu nome é  natalia\n"
     ]
    }
   ],
   "source": [
    "# executando\n",
    "saudacao()"
   ]
  },
  {
   "cell_type": "code",
   "execution_count": 4,
   "id": "9520ee84-9892-45b4-bb6f-c6f030621427",
   "metadata": {},
   "outputs": [
    {
     "name": "stdin",
     "output_type": "stream",
     "text": [
      "Qual seu primeiro nome?  natalia\n",
      "Qual seu sobrenome?  oliveira\n"
     ]
    },
    {
     "name": "stdout",
     "output_type": "stream",
     "text": [
      "natalia oliveira\n"
     ]
    }
   ],
   "source": [
    "def nome_completo():\n",
    " primeiro_nome = input('Qual seu primeiro nome? ')\n",
    " sobrenome = input('Qual seu sobrenome? ')\n",
    " nome_inteiro = primeiro_nome + ' ' + sobrenome\n",
    " print(nome_inteiro)\n",
    "\n",
    "nome_completo()"
   ]
  },
  {
   "cell_type": "code",
   "execution_count": 5,
   "id": "306e05ab-0925-4675-bc7f-2ec531d6e4da",
   "metadata": {},
   "outputs": [],
   "source": [
    "# refazendo função saudação com a variavel nome fora da função\n",
    "\n",
    "def saudacaoComParametro(nome_pessoa):\n",
    "    print('Olá ', nome_pessoa)"
   ]
  },
  {
   "cell_type": "code",
   "execution_count": 7,
   "id": "7327a399-8755-4fb2-a381-520ef94fd8df",
   "metadata": {},
   "outputs": [
    {
     "name": "stdin",
     "output_type": "stream",
     "text": [
      "Qual seu nome?  natalia\n"
     ]
    }
   ],
   "source": [
    "nome = input('Qual seu nome? ')"
   ]
  },
  {
   "cell_type": "code",
   "execution_count": 8,
   "id": "ca8e566d-3591-405c-86ab-c9df52021448",
   "metadata": {},
   "outputs": [
    {
     "name": "stdout",
     "output_type": "stream",
     "text": [
      "Olá  natalia\n"
     ]
    }
   ],
   "source": [
    "saudacaoComParametro(nome)"
   ]
  },
  {
   "cell_type": "code",
   "execution_count": 1,
   "id": "cbcc58b8-e905-42bc-82dc-8b121dbe3b53",
   "metadata": {},
   "outputs": [],
   "source": [
    "# usando condição\n",
    "def podeDirigir(idade):\n",
    "    if idade >= 18:\n",
    "        print('Sim, pode dirigir')\n",
    "    else:\n",
    "        print('Não, não pode dirigir')"
   ]
  },
  {
   "cell_type": "code",
   "execution_count": 2,
   "id": "fdfc1036-12b3-42d4-954b-36f43f62691e",
   "metadata": {},
   "outputs": [
    {
     "name": "stdin",
     "output_type": "stream",
     "text": [
      "Qual a sua idade:? 30\n"
     ]
    }
   ],
   "source": [
    "suaIdade = int(input('Qual a sua idade:?'))\n"
   ]
  },
  {
   "cell_type": "code",
   "execution_count": 3,
   "id": "b5904647-28bc-4739-9987-f02896e7e573",
   "metadata": {},
   "outputs": [
    {
     "data": {
      "text/plain": [
       "30"
      ]
     },
     "execution_count": 3,
     "metadata": {},
     "output_type": "execute_result"
    }
   ],
   "source": [
    "suaIdade"
   ]
  },
  {
   "cell_type": "code",
   "execution_count": 4,
   "id": "1969c801-3151-4393-be8e-0f0930097142",
   "metadata": {},
   "outputs": [
    {
     "name": "stdout",
     "output_type": "stream",
     "text": [
      "Sim, pode dirigir\n"
     ]
    }
   ],
   "source": [
    "podeDirigir(suaIdade)"
   ]
  },
  {
   "cell_type": "code",
   "execution_count": 5,
   "id": "028d0cc1-222d-404e-90e5-f965c096b1bb",
   "metadata": {},
   "outputs": [],
   "source": [
    "# Trabalhando com Listas\n",
    "idade = [1,16,30,36]"
   ]
  },
  {
   "cell_type": "code",
   "execution_count": 11,
   "id": "17d800c2-d38c-4c29-bac5-35dbb78d75c9",
   "metadata": {},
   "outputs": [
    {
     "data": {
      "text/plain": [
       "30"
      ]
     },
     "execution_count": 11,
     "metadata": {},
     "output_type": "execute_result"
    }
   ],
   "source": [
    "# formas de visualizar\n",
    "idade[2]\n"
   ]
  },
  {
   "cell_type": "code",
   "execution_count": 12,
   "id": "9a963b82-c25d-44e4-9a8a-f787fe9b1d28",
   "metadata": {},
   "outputs": [
    {
     "data": {
      "text/plain": [
       "[16, 30, 36]"
      ]
     },
     "execution_count": 12,
     "metadata": {},
     "output_type": "execute_result"
    }
   ],
   "source": [
    "idade[1:]\n"
   ]
  },
  {
   "cell_type": "code",
   "execution_count": 13,
   "id": "10e8a94f-b1e3-4b51-ba21-a825da22ac78",
   "metadata": {},
   "outputs": [
    {
     "data": {
      "text/plain": [
       "[1, 16]"
      ]
     },
     "execution_count": 13,
     "metadata": {},
     "output_type": "execute_result"
    }
   ],
   "source": [
    "idade[:2]\n"
   ]
  },
  {
   "cell_type": "code",
   "execution_count": 15,
   "id": "45788d6a-3c15-4f73-9171-49612abe45fa",
   "metadata": {},
   "outputs": [
    {
     "data": {
      "text/plain": [
       "36"
      ]
     },
     "execution_count": 15,
     "metadata": {},
     "output_type": "execute_result"
    }
   ],
   "source": [
    "idade[-1]"
   ]
  },
  {
   "cell_type": "code",
   "execution_count": 14,
   "id": "c16b2e71-c023-401b-bc17-7f1c0e08d218",
   "metadata": {},
   "outputs": [
    {
     "data": {
      "text/plain": [
       "[1, 16]"
      ]
     },
     "execution_count": 14,
     "metadata": {},
     "output_type": "execute_result"
    }
   ],
   "source": [
    "idade[0:2]\n"
   ]
  },
  {
   "cell_type": "code",
   "execution_count": 1,
   "id": "98909de9-581b-4ea5-a880-3261f1dbf7bc",
   "metadata": {},
   "outputs": [],
   "source": [
    "idades = [1,16,30,36]\n"
   ]
  },
  {
   "cell_type": "code",
   "execution_count": 17,
   "id": "6bad5124-47ea-44e7-8e73-bf1b1c9fa9b3",
   "metadata": {},
   "outputs": [
    {
     "name": "stdout",
     "output_type": "stream",
     "text": [
      "1 anos de idade, não pode dirigir\n",
      "16 anos de idade, não pode dirigir\n",
      "30 anos de idade, pode dirigir\n",
      "36 anos de idade, pode dirigir\n"
     ]
    }
   ],
   "source": [
    "# juntando conhecimento: Criar função que verifica as idades dentro de uma lista se elas podem ou não dirigir\n",
    "\n",
    "def verificarIdadeDirigir(idade):\n",
    "    if idade >= 18:\n",
    "        print('%s anos de idade, pode dirigir' %(idade))\n",
    "    else:\n",
    "        print('%s anos de idade, não pode dirigir' %(idade))\n",
    "        \n",
    "for idade in idades:\n",
    "    verificarIdadeDirigir(idade)\n",
    "         "
   ]
  },
  {
   "cell_type": "code",
   "execution_count": null,
   "id": "17e55ea7-3bdd-4a74-a964-9b9327b9c31b",
   "metadata": {},
   "outputs": [],
   "source": [
    "# for dentro da função"
   ]
  },
  {
   "cell_type": "code",
   "execution_count": 20,
   "id": "46ba1836-1647-4118-a391-991fcfd9ba10",
   "metadata": {},
   "outputs": [],
   "source": [
    "def verificarIdadeDirigirFor(idade):\n",
    "    for idade in idades:\n",
    "        if idade >= 18:\n",
    "            print('%s anos de idade, pode dirigir' %(idade))\n",
    "        else:\n",
    "            print('%s anos de idade, não pode dirigir' %(idade))\n",
    "        \n",
    "\n",
    "         "
   ]
  },
  {
   "cell_type": "code",
   "execution_count": 21,
   "id": "2861f5cc-1ba3-4855-8eae-9b6099b511e6",
   "metadata": {},
   "outputs": [
    {
     "name": "stdout",
     "output_type": "stream",
     "text": [
      "1 anos de idade, não pode dirigir\n",
      "16 anos de idade, não pode dirigir\n",
      "30 anos de idade, pode dirigir\n",
      "36 anos de idade, pode dirigir\n"
     ]
    }
   ],
   "source": [
    "verificarIdadeDirigirFor(idade)"
   ]
  },
  {
   "cell_type": "code",
   "execution_count": 11,
   "id": "246ec626-786d-443d-88ae-0ecd959c5d37",
   "metadata": {},
   "outputs": [],
   "source": [
    "def verificarIdadeBool(permissoes, idades):\n",
    "    for idade in idades:\n",
    "        if idade >= 18:\n",
    "            permissoes.append(True)\n",
    "        else:\n",
    "            permissoes.append(False)\n"
   ]
  },
  {
   "cell_type": "code",
   "execution_count": 12,
   "id": "16c12a07-7dbf-4ebe-a88f-a187bbbd262a",
   "metadata": {},
   "outputs": [],
   "source": [
    "# Booleano\n",
    "permissoes = []\n",
    "idades = [40,18,42,68,90,12,70,3,5,80,66]"
   ]
  },
  {
   "cell_type": "code",
   "execution_count": 13,
   "id": "7ecb4905-dcd5-44ad-a5be-39988a33ef02",
   "metadata": {},
   "outputs": [],
   "source": [
    "verificarIdadeBool(permissoes, idades)"
   ]
  },
  {
   "cell_type": "code",
   "execution_count": 14,
   "id": "db7b60f9-99f0-4598-b9f3-bb91a59ef15f",
   "metadata": {},
   "outputs": [
    {
     "data": {
      "text/plain": [
       "[True, True, True, True, True, False, True, False, False, True, True]"
      ]
     },
     "execution_count": 14,
     "metadata": {},
     "output_type": "execute_result"
    }
   ],
   "source": [
    "permissoes"
   ]
  },
  {
   "cell_type": "code",
   "execution_count": 15,
   "id": "8badd3d0-032d-42a9-8e19-db8c9ef823d1",
   "metadata": {},
   "outputs": [
    {
     "name": "stdout",
     "output_type": "stream",
     "text": [
      "Tem permissão para dirigir\n",
      "Tem permissão para dirigir\n",
      "Tem permissão para dirigir\n",
      "Tem permissão para dirigir\n",
      "Tem permissão para dirigir\n",
      "Não tem permissão para dirigir\n",
      "Tem permissão para dirigir\n",
      "Não tem permissão para dirigir\n",
      "Não tem permissão para dirigir\n",
      "Tem permissão para dirigir\n",
      "Tem permissão para dirigir\n"
     ]
    }
   ],
   "source": [
    "for permissoes in permissoes:\n",
    "    if permissoes == True:\n",
    "        print('Tem permissão para dirigir')\n",
    "    else:\n",
    "        print('Não tem permissão para dirigir')"
   ]
  },
  {
   "cell_type": "code",
   "execution_count": null,
   "id": "eb1bccd9-1a39-4df7-88aa-230f36e9f52c",
   "metadata": {},
   "outputs": [],
   "source": []
  }
 ],
 "metadata": {
  "kernelspec": {
   "display_name": "Python 3",
   "language": "python",
   "name": "python3"
  },
  "language_info": {
   "codemirror_mode": {
    "name": "ipython",
    "version": 3
   },
   "file_extension": ".py",
   "mimetype": "text/x-python",
   "name": "python",
   "nbconvert_exporter": "python",
   "pygments_lexer": "ipython3",
   "version": "3.8.8"
  }
 },
 "nbformat": 4,
 "nbformat_minor": 5
}
