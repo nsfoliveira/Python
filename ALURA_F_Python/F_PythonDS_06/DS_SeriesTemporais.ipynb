{
 "cells": [
  {
   "cell_type": "markdown",
   "id": "fbd9effe-08d9-4283-ad4c-e969d4246d6d",
   "metadata": {},
   "source": [
    "# Tendência das Vendas"
   ]
  },
  {
   "cell_type": "markdown",
   "id": "734b297f-a109-4c86-860a-44f313592220",
   "metadata": {},
   "source": [
    "## Alucar - Analisando as Vendas\n",
    "\n",
    "### Objetivo\n",
    "Analisar se houve crescimento das vendas"
   ]
  },
  {
   "cell_type": "markdown",
   "id": "913e0917-f02a-4992-bd26-fb63023b5632",
   "metadata": {},
   "source": [
    "#### Bibliotecas utilizadas"
   ]
  },
  {
   "cell_type": "code",
   "execution_count": 42,
   "id": "74cb60b0-a417-4c5c-ba4d-46588b6afa22",
   "metadata": {},
   "outputs": [],
   "source": [
    "import pandas as pd\n",
    "import seaborn as sns\n",
    "sns.set_palette('mako')\n",
    "sns.set_style('whitegrid')\n",
    "%matplotlib inline\n",
    "from matplotlib import pyplot as plt"
   ]
  },
  {
   "cell_type": "code",
   "execution_count": 27,
   "id": "0eb48b99-652f-4b9e-9192-edcd4c086c69",
   "metadata": {},
   "outputs": [],
   "source": [
    "# importando dataset\n",
    "alucar = pd.read_csv(\"material curso - Time Series/alucar.csv\", sep=',')"
   ]
  },
  {
   "cell_type": "code",
   "execution_count": 28,
   "id": "59e96990-6aa5-42a9-8cd5-a17aea35036d",
   "metadata": {},
   "outputs": [
    {
     "data": {
      "text/html": [
       "<div>\n",
       "<style scoped>\n",
       "    .dataframe tbody tr th:only-of-type {\n",
       "        vertical-align: middle;\n",
       "    }\n",
       "\n",
       "    .dataframe tbody tr th {\n",
       "        vertical-align: top;\n",
       "    }\n",
       "\n",
       "    .dataframe thead th {\n",
       "        text-align: right;\n",
       "    }\n",
       "</style>\n",
       "<table border=\"1\" class=\"dataframe\">\n",
       "  <thead>\n",
       "    <tr style=\"text-align: right;\">\n",
       "      <th></th>\n",
       "      <th>mes</th>\n",
       "      <th>vendas</th>\n",
       "    </tr>\n",
       "  </thead>\n",
       "  <tbody>\n",
       "    <tr>\n",
       "      <th>0</th>\n",
       "      <td>2017-01-31</td>\n",
       "      <td>10</td>\n",
       "    </tr>\n",
       "    <tr>\n",
       "      <th>1</th>\n",
       "      <td>2017-02-28</td>\n",
       "      <td>20</td>\n",
       "    </tr>\n",
       "    <tr>\n",
       "      <th>2</th>\n",
       "      <td>2017-03-31</td>\n",
       "      <td>33</td>\n",
       "    </tr>\n",
       "    <tr>\n",
       "      <th>3</th>\n",
       "      <td>2017-04-30</td>\n",
       "      <td>47</td>\n",
       "    </tr>\n",
       "    <tr>\n",
       "      <th>4</th>\n",
       "      <td>2017-05-31</td>\n",
       "      <td>63</td>\n",
       "    </tr>\n",
       "  </tbody>\n",
       "</table>\n",
       "</div>"
      ],
      "text/plain": [
       "          mes  vendas\n",
       "0  2017-01-31      10\n",
       "1  2017-02-28      20\n",
       "2  2017-03-31      33\n",
       "3  2017-04-30      47\n",
       "4  2017-05-31      63"
      ]
     },
     "execution_count": 28,
     "metadata": {},
     "output_type": "execute_result"
    }
   ],
   "source": [
    "# visualizando os primeiros registros\n",
    "alucar.head(5)"
   ]
  },
  {
   "cell_type": "code",
   "execution_count": 29,
   "id": "8a15dafd-23fc-4d4b-be31-abaf66799dba",
   "metadata": {},
   "outputs": [
    {
     "name": "stdout",
     "output_type": "stream",
     "text": [
      "Quantidade de linhas e colunas:  (24, 2)\n"
     ]
    }
   ],
   "source": [
    "# tamanho do dataset\n",
    "print(\"Quantidade de linhas e colunas: \", alucar.shape)"
   ]
  },
  {
   "cell_type": "code",
   "execution_count": 30,
   "id": "950c584a-5f40-49b0-9666-37a27cf5f63a",
   "metadata": {},
   "outputs": [
    {
     "name": "stdout",
     "output_type": "stream",
     "text": [
      "<class 'pandas.core.frame.DataFrame'>\n",
      "RangeIndex: 24 entries, 0 to 23\n",
      "Data columns (total 2 columns):\n",
      " #   Column  Non-Null Count  Dtype \n",
      "---  ------  --------------  ----- \n",
      " 0   mes     24 non-null     object\n",
      " 1   vendas  24 non-null     int64 \n",
      "dtypes: int64(1), object(1)\n",
      "memory usage: 512.0+ bytes\n"
     ]
    }
   ],
   "source": [
    "# verificando se há dados nulos e os tipos de dados presentes\n",
    "alucar.info()"
   ]
  },
  {
   "cell_type": "code",
   "execution_count": 31,
   "id": "ccc768b0-95fb-40f5-951b-5a42d2273be2",
   "metadata": {},
   "outputs": [
    {
     "data": {
      "text/plain": [
       "mes       datetime64[ns]\n",
       "vendas             int64\n",
       "dtype: object"
      ]
     },
     "execution_count": 31,
     "metadata": {},
     "output_type": "execute_result"
    }
   ],
   "source": [
    "# convertendo a coluna mês de object para datetime\n",
    "alucar['mes'] = pd.to_datetime(alucar.mes)\n",
    "alucar.dtypes"
   ]
  },
  {
   "cell_type": "code",
   "execution_count": 54,
   "id": "9a3185b5-65b3-4166-8f10-2fedf54e38a0",
   "metadata": {},
   "outputs": [
    {
     "data": {
      "image/png": "[encoded data removed]",
      "text/plain": [
       "<Figure size 864x504 with 1 Axes>"
      ]
     },
     "metadata": {
      "needs_background": "light"
     },
     "output_type": "display_data"
    }
   ],
   "source": [
    "# Gráfico 01: Analisando as Vendas ao longo do periodo\n",
    "fig1 = sns.lineplot(\n",
    "    x=alucar.mes, \n",
    "    y=alucar.vendas)\n",
    "fig1.figure.set_size_inches(12,7)\n",
    "fig1.set_title('Vendas Alucar de 2017 e 2016', loc='left', fontsize=18)\n",
    "fig1.set_xlabel('Tempo', fontsize=14)\n",
    "fig1.set_ylabel('Quantidade de vendas', fontsize=14)\n",
    "fig1 = fig1 # para não aparecer nenhum text"
   ]
  },
  {
   "cell_type": "code",
   "execution_count": null,
   "id": "df15ec04-63e0-4292-b515-3bbb66f58ee7",
   "metadata": {},
   "outputs": [],
   "source": []
  }
 ],
 "metadata": {
  "kernelspec": {
   "display_name": "Python 3",
   "language": "python",
   "name": "python3"
  },
  "language_info": {
   "codemirror_mode": {
    "name": "ipython",
    "version": 3
   },
   "file_extension": ".py",
   "mimetype": "text/x-python",
   "name": "python",
   "nbconvert_exporter": "python",
   "pygments_lexer": "ipython3",
   "version": "3.8.8"
  }
 },
 "nbformat": 4,
 "nbformat_minor": 5
}
