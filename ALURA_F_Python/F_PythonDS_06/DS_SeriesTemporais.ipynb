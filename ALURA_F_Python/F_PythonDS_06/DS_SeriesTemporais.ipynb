{
 "cells": [
  {
   "cell_type": "markdown",
   "id": "fbd9effe-08d9-4283-ad4c-e969d4246d6d",
   "metadata": {},
   "source": [
    "# Tendência das Vendas"
   ]
  },
  {
   "cell_type": "markdown",
   "id": "734b297f-a109-4c86-860a-44f313592220",
   "metadata": {},
   "source": [
    "## Alucar - Analisando as Vendas\n",
    "\n",
    "### Objetivo\n",
    "Analisar se houve crescimento das vendas"
   ]
  },
  {
   "cell_type": "markdown",
   "id": "913e0917-f02a-4992-bd26-fb63023b5632",
   "metadata": {},
   "source": [
    "#### Bibliotecas"
   ]
  },
  {
   "cell_type": "code",
   "execution_count": 1,
   "id": "74cb60b0-a417-4c5c-ba4d-46588b6afa22",
   "metadata": {},
   "outputs": [],
   "source": [
    "import pandas as pd"
   ]
  },
  {
   "cell_type": "code",
   "execution_count": 4,
   "id": "0eb48b99-652f-4b9e-9192-edcd4c086c69",
   "metadata": {},
   "outputs": [],
   "source": [
    "# importando dataset\n",
    "alucar = pd.read_csv(\"material curso - Time Series/alucar.csv\", sep=',')"
   ]
  },
  {
   "cell_type": "code",
   "execution_count": 5,
   "id": "59e96990-6aa5-42a9-8cd5-a17aea35036d",
   "metadata": {},
   "outputs": [
    {
     "data": {
      "text/html": [
       "<div>\n",
       "<style scoped>\n",
       "    .dataframe tbody tr th:only-of-type {\n",
       "        vertical-align: middle;\n",
       "    }\n",
       "\n",
       "    .dataframe tbody tr th {\n",
       "        vertical-align: top;\n",
       "    }\n",
       "\n",
       "    .dataframe thead th {\n",
       "        text-align: right;\n",
       "    }\n",
       "</style>\n",
       "<table border=\"1\" class=\"dataframe\">\n",
       "  <thead>\n",
       "    <tr style=\"text-align: right;\">\n",
       "      <th></th>\n",
       "      <th>mes</th>\n",
       "      <th>vendas</th>\n",
       "    </tr>\n",
       "  </thead>\n",
       "  <tbody>\n",
       "    <tr>\n",
       "      <th>0</th>\n",
       "      <td>2017-01-31</td>\n",
       "      <td>10</td>\n",
       "    </tr>\n",
       "    <tr>\n",
       "      <th>1</th>\n",
       "      <td>2017-02-28</td>\n",
       "      <td>20</td>\n",
       "    </tr>\n",
       "    <tr>\n",
       "      <th>2</th>\n",
       "      <td>2017-03-31</td>\n",
       "      <td>33</td>\n",
       "    </tr>\n",
       "    <tr>\n",
       "      <th>3</th>\n",
       "      <td>2017-04-30</td>\n",
       "      <td>47</td>\n",
       "    </tr>\n",
       "    <tr>\n",
       "      <th>4</th>\n",
       "      <td>2017-05-31</td>\n",
       "      <td>63</td>\n",
       "    </tr>\n",
       "  </tbody>\n",
       "</table>\n",
       "</div>"
      ],
      "text/plain": [
       "          mes  vendas\n",
       "0  2017-01-31      10\n",
       "1  2017-02-28      20\n",
       "2  2017-03-31      33\n",
       "3  2017-04-30      47\n",
       "4  2017-05-31      63"
      ]
     },
     "execution_count": 5,
     "metadata": {},
     "output_type": "execute_result"
    }
   ],
   "source": [
    "# visualizando os primeiros registros\n",
    "alucar.head(5)"
   ]
  },
  {
   "cell_type": "code",
   "execution_count": 6,
   "id": "8a15dafd-23fc-4d4b-be31-abaf66799dba",
   "metadata": {},
   "outputs": [
    {
     "name": "stdout",
     "output_type": "stream",
     "text": [
      " Quantidade de linhas e colunas:  (24, 2)\n"
     ]
    }
   ],
   "source": [
    "# tamanho do dataset\n",
    "print(\"Quantidade de linhas e colunas: \", alucar.shape)"
   ]
  },
  {
   "cell_type": "code",
   "execution_count": 9,
   "id": "3b61e5b4-60e3-448b-85ef-c09b85f09005",
   "metadata": {},
   "outputs": [
    {
     "name": "stdout",
     "output_type": "stream",
     "text": [
      "Quantidade de dados nulos 0\n"
     ]
    }
   ],
   "source": [
    "# verificando se há dados nulos\n",
    "print(\"Quantidade de dados nulos\", alucar.isna().sum().sum())"
   ]
  },
  {
   "cell_type": "code",
   "execution_count": null,
   "id": "950c584a-5f40-49b0-9666-37a27cf5f63a",
   "metadata": {},
   "outputs": [],
   "source": []
  }
 ],
 "metadata": {
  "kernelspec": {
   "display_name": "Python 3",
   "language": "python",
   "name": "python3"
  },
  "language_info": {
   "codemirror_mode": {
    "name": "ipython",
    "version": 3
   },
   "file_extension": ".py",
   "mimetype": "text/x-python",
   "name": "python",
   "nbconvert_exporter": "python",
   "pygments_lexer": "ipython3",
   "version": "3.8.8"
  }
 },
 "nbformat": 4,
 "nbformat_minor": 5
}
