{
 "cells": [
  {
   "cell_type": "markdown",
   "id": "9f0659f2-cb95-47f1-807f-6cdbceb172f8",
   "metadata": {},
   "source": [
    "Esse notebook contém conteúdo do Curso de <b> Processamento de Linguagem Natural - Corretor Ortográfico em Python </b> da <b>Alura</b> ccom o instrutor <b>Thiago Santos</b> e anotações realizadas por mim "
   ]
  },
  {
   "cell_type": "markdown",
   "id": "1b2d15bb-316b-4dd6-b507-be19b9347645",
   "metadata": {},
   "source": [
    "# Processamento de Linguagem Natural\n",
    "## Contruindo um Corretor Ortográfico em Python utilizando técnicas de NPL"
   ]
  },
  {
   "cell_type": "markdown",
   "id": "a5b74ae3-f744-4e57-b622-ac53921cb63c",
   "metadata": {},
   "source": [
    "### 01. Explorando um Projeto de NLP"
   ]
  },
  {
   "cell_type": "code",
   "execution_count": 11,
   "id": "b660ce97-7c34-43e5-ba1a-813311c06915",
   "metadata": {},
   "outputs": [
    {
     "name": "stdout",
     "output_type": "stream",
     "text": [
      "\n",
      "\n",
      "\n",
      "imagem \n",
      "\n",
      "Temos a seguinte classe que representa um usuário no nosso sistema:\n",
      "\n",
      "java\n",
      "\n",
      "Para salvar um novo usuário, várias validações são feitas, como por exemplo: Ver se o nome só contém letras, [**o CPF só números**] e ver se o usuário possui no mínimo 18 anos. Veja o método que faz essa validação:\n",
      "\n",
      "java \n",
      "\n",
      "Suponha agora que eu tenha outra classe, a classe `Produto`, que contém um atributo nome e eu quero fazer a mesma validação que fiz para o nome do usuário: Ver se só contém letras. E aí? Vou\n"
     ]
    }
   ],
   "source": [
    "# Abrindo a base de palavras que usaremos no nosso modelo\n",
    "\n",
    "with open('corretor-master/artigos.txt', 'r', encoding='utf8', errors='replace') as f:\n",
    "    base = f.read()\n",
    "# na função open utilizei alguns parametros a mais que não foi utilizado pelo instrutor, tais como encoding e replace, pois sem eleso \\\n",
    "# arquivo estava com formatação desconfigurada.   \n",
    "print(base[:500])"
   ]
  },
  {
   "cell_type": "code",
   "execution_count": 14,
   "id": "67e541bc-7f54-4d78-a23e-30445928d3e0",
   "metadata": {},
   "outputs": [],
   "source": [
    "# Quantidade de palavras em nossa base\n",
    "\n",
    "qtd_palavras = base.split() \n",
    "# essa função retorna uma lista com cada palavra separada tornando-se um token dentro de um vetor, mas ainda não é que queremos, pois ele \\\n",
    "# carrega acentuação\n",
    "\n",
    "# se eu quiser saber a quantidade de CARACTERES, podemos usar o len()"
   ]
  },
  {
   "cell_type": "markdown",
   "id": "df499709-a3ad-4dd0-b80a-403ca37ca528",
   "metadata": {},
   "source": [
    "### 02. Utilizando NLTK para tokenizar um texto"
   ]
  },
  {
   "cell_type": "code",
   "execution_count": null,
   "id": "da33e048-c3f2-4c15-a66a-366411f40822",
   "metadata": {},
   "outputs": [],
   "source": []
  }
 ],
 "metadata": {
  "kernelspec": {
   "display_name": "Python 3",
   "language": "python",
   "name": "python3"
  },
  "language_info": {
   "codemirror_mode": {
    "name": "ipython",
    "version": 3
   },
   "file_extension": ".py",
   "mimetype": "text/x-python",
   "name": "python",
   "nbconvert_exporter": "python",
   "pygments_lexer": "ipython3",
   "version": "3.8.8"
  }
 },
 "nbformat": 4,
 "nbformat_minor": 5
}
