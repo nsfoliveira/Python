{
 "cells": [
  {
   "cell_type": "markdown",
   "id": "e1995452-8ced-4377-8b0c-374098322093",
   "metadata": {
    "tags": []
   },
   "source": [
    "#  Criando uma base de dados de uma escola de programação"
   ]
  },
  {
   "cell_type": "markdown",
   "id": "f34289c6-1009-4c02-aeb8-36afe36c8a0d",
   "metadata": {
    "tags": []
   },
   "source": [
    "## Criando lista com os nomes dos alunos"
   ]
  },
  {
   "cell_type": "code",
   "execution_count": 2,
   "id": "f2a3b943-0d69-4496-a53d-498e880f2231",
   "metadata": {
    "tags": []
   },
   "outputs": [],
   "source": [
    "# Importando a biblioteca Pandas\n",
    "import pandas as pd"
   ]
  },
  {
   "cell_type": "markdown",
   "id": "23c082a4-390e-4c84-8602-57765da53393",
   "metadata": {
    "tags": []
   },
   "source": [
    "### Utilizando a API do IBGE de nome, optanod pelo Ranking de Frequência:\n",
    "https://servicodados.ibge.gov.br/api/v1/censos/nomes/ranking\n"
   ]
  },
  {
   "cell_type": "code",
   "execution_count": 3,
   "id": "3b924e54-8ce3-40e8-8508-c2a09bf26fc1",
   "metadata": {
    "tags": []
   },
   "outputs": [
    {
     "data": {
      "text/html": [
       "<div>\n",
       "<style scoped>\n",
       "    .dataframe tbody tr th:only-of-type {\n",
       "        vertical-align: middle;\n",
       "    }\n",
       "\n",
       "    .dataframe tbody tr th {\n",
       "        vertical-align: top;\n",
       "    }\n",
       "\n",
       "    .dataframe thead th {\n",
       "        text-align: right;\n",
       "    }\n",
       "</style>\n",
       "<table border=\"1\" class=\"dataframe\">\n",
       "  <thead>\n",
       "    <tr style=\"text-align: right;\">\n",
       "      <th></th>\n",
       "      <th>nome</th>\n",
       "      <th>regiao</th>\n",
       "      <th>freq</th>\n",
       "      <th>rank</th>\n",
       "      <th>sexo</th>\n",
       "    </tr>\n",
       "  </thead>\n",
       "  <tbody>\n",
       "    <tr>\n",
       "      <th>0</th>\n",
       "      <td>MARIA</td>\n",
       "      <td>0</td>\n",
       "      <td>11694738</td>\n",
       "      <td>1</td>\n",
       "      <td>F</td>\n",
       "    </tr>\n",
       "    <tr>\n",
       "      <th>1</th>\n",
       "      <td>ANA</td>\n",
       "      <td>0</td>\n",
       "      <td>3079729</td>\n",
       "      <td>2</td>\n",
       "      <td>F</td>\n",
       "    </tr>\n",
       "    <tr>\n",
       "      <th>2</th>\n",
       "      <td>FRANCISCA</td>\n",
       "      <td>0</td>\n",
       "      <td>721637</td>\n",
       "      <td>3</td>\n",
       "      <td>F</td>\n",
       "    </tr>\n",
       "    <tr>\n",
       "      <th>3</th>\n",
       "      <td>ANTONIA</td>\n",
       "      <td>0</td>\n",
       "      <td>588783</td>\n",
       "      <td>4</td>\n",
       "      <td>F</td>\n",
       "    </tr>\n",
       "    <tr>\n",
       "      <th>4</th>\n",
       "      <td>ADRIANA</td>\n",
       "      <td>0</td>\n",
       "      <td>565621</td>\n",
       "      <td>5</td>\n",
       "      <td>F</td>\n",
       "    </tr>\n",
       "    <tr>\n",
       "      <th>5</th>\n",
       "      <td>JULIANA</td>\n",
       "      <td>0</td>\n",
       "      <td>562589</td>\n",
       "      <td>6</td>\n",
       "      <td>F</td>\n",
       "    </tr>\n",
       "    <tr>\n",
       "      <th>6</th>\n",
       "      <td>MARCIA</td>\n",
       "      <td>0</td>\n",
       "      <td>551855</td>\n",
       "      <td>7</td>\n",
       "      <td>F</td>\n",
       "    </tr>\n",
       "    <tr>\n",
       "      <th>7</th>\n",
       "      <td>FERNANDA</td>\n",
       "      <td>0</td>\n",
       "      <td>531607</td>\n",
       "      <td>8</td>\n",
       "      <td>F</td>\n",
       "    </tr>\n",
       "    <tr>\n",
       "      <th>8</th>\n",
       "      <td>PATRICIA</td>\n",
       "      <td>0</td>\n",
       "      <td>529446</td>\n",
       "      <td>9</td>\n",
       "      <td>F</td>\n",
       "    </tr>\n",
       "    <tr>\n",
       "      <th>9</th>\n",
       "      <td>ALINE</td>\n",
       "      <td>0</td>\n",
       "      <td>509869</td>\n",
       "      <td>10</td>\n",
       "      <td>F</td>\n",
       "    </tr>\n",
       "  </tbody>\n",
       "</table>\n",
       "</div>"
      ],
      "text/plain": [
       "        nome  regiao      freq  rank sexo\n",
       "0      MARIA       0  11694738     1    F\n",
       "1        ANA       0   3079729     2    F\n",
       "2  FRANCISCA       0    721637     3    F\n",
       "3    ANTONIA       0    588783     4    F\n",
       "4    ADRIANA       0    565621     5    F\n",
       "5    JULIANA       0    562589     6    F\n",
       "6     MARCIA       0    551855     7    F\n",
       "7   FERNANDA       0    531607     8    F\n",
       "8   PATRICIA       0    529446     9    F\n",
       "9      ALINE       0    509869    10    F"
      ]
     },
     "execution_count": 3,
     "metadata": {},
     "output_type": "execute_result"
    }
   ],
   "source": [
    "# Lendo a API através do read_json. O final da api foi alterado para trazer apenas 20 nomes do sexo feminino\n",
    "alunas = pd.read_json('https://servicodados.ibge.gov.br/api/v1/censos/nomes/ranking?qtd=200&sexo=f')\n",
    "alunas.head(10)"
   ]
  },
  {
   "cell_type": "code",
   "execution_count": 4,
   "id": "a3f6144c-bc22-4ae1-99ce-563c10128d4b",
   "metadata": {
    "tags": []
   },
   "outputs": [
    {
     "data": {
      "text/html": [
       "<div>\n",
       "<style scoped>\n",
       "    .dataframe tbody tr th:only-of-type {\n",
       "        vertical-align: middle;\n",
       "    }\n",
       "\n",
       "    .dataframe tbody tr th {\n",
       "        vertical-align: top;\n",
       "    }\n",
       "\n",
       "    .dataframe thead th {\n",
       "        text-align: right;\n",
       "    }\n",
       "</style>\n",
       "<table border=\"1\" class=\"dataframe\">\n",
       "  <thead>\n",
       "    <tr style=\"text-align: right;\">\n",
       "      <th></th>\n",
       "      <th>nome</th>\n",
       "      <th>regiao</th>\n",
       "      <th>freq</th>\n",
       "      <th>rank</th>\n",
       "      <th>sexo</th>\n",
       "    </tr>\n",
       "  </thead>\n",
       "  <tbody>\n",
       "    <tr>\n",
       "      <th>0</th>\n",
       "      <td>JOSE</td>\n",
       "      <td>0</td>\n",
       "      <td>5732508</td>\n",
       "      <td>1</td>\n",
       "      <td>M</td>\n",
       "    </tr>\n",
       "    <tr>\n",
       "      <th>1</th>\n",
       "      <td>JOAO</td>\n",
       "      <td>0</td>\n",
       "      <td>2971935</td>\n",
       "      <td>2</td>\n",
       "      <td>M</td>\n",
       "    </tr>\n",
       "    <tr>\n",
       "      <th>2</th>\n",
       "      <td>ANTONIO</td>\n",
       "      <td>0</td>\n",
       "      <td>2567494</td>\n",
       "      <td>3</td>\n",
       "      <td>M</td>\n",
       "    </tr>\n",
       "    <tr>\n",
       "      <th>3</th>\n",
       "      <td>FRANCISCO</td>\n",
       "      <td>0</td>\n",
       "      <td>1765197</td>\n",
       "      <td>4</td>\n",
       "      <td>M</td>\n",
       "    </tr>\n",
       "    <tr>\n",
       "      <th>4</th>\n",
       "      <td>CARLOS</td>\n",
       "      <td>0</td>\n",
       "      <td>1483121</td>\n",
       "      <td>5</td>\n",
       "      <td>M</td>\n",
       "    </tr>\n",
       "    <tr>\n",
       "      <th>5</th>\n",
       "      <td>PAULO</td>\n",
       "      <td>0</td>\n",
       "      <td>1417907</td>\n",
       "      <td>6</td>\n",
       "      <td>M</td>\n",
       "    </tr>\n",
       "    <tr>\n",
       "      <th>6</th>\n",
       "      <td>PEDRO</td>\n",
       "      <td>0</td>\n",
       "      <td>1213557</td>\n",
       "      <td>7</td>\n",
       "      <td>M</td>\n",
       "    </tr>\n",
       "    <tr>\n",
       "      <th>7</th>\n",
       "      <td>LUCAS</td>\n",
       "      <td>0</td>\n",
       "      <td>1116818</td>\n",
       "      <td>8</td>\n",
       "      <td>M</td>\n",
       "    </tr>\n",
       "    <tr>\n",
       "      <th>8</th>\n",
       "      <td>LUIZ</td>\n",
       "      <td>0</td>\n",
       "      <td>1102927</td>\n",
       "      <td>9</td>\n",
       "      <td>M</td>\n",
       "    </tr>\n",
       "    <tr>\n",
       "      <th>9</th>\n",
       "      <td>MARCOS</td>\n",
       "      <td>0</td>\n",
       "      <td>1101126</td>\n",
       "      <td>10</td>\n",
       "      <td>M</td>\n",
       "    </tr>\n",
       "  </tbody>\n",
       "</table>\n",
       "</div>"
      ],
      "text/plain": [
       "        nome  regiao     freq  rank sexo\n",
       "0       JOSE       0  5732508     1    M\n",
       "1       JOAO       0  2971935     2    M\n",
       "2    ANTONIO       0  2567494     3    M\n",
       "3  FRANCISCO       0  1765197     4    M\n",
       "4     CARLOS       0  1483121     5    M\n",
       "5      PAULO       0  1417907     6    M\n",
       "6      PEDRO       0  1213557     7    M\n",
       "7      LUCAS       0  1116818     8    M\n",
       "8       LUIZ       0  1102927     9    M\n",
       "9     MARCOS       0  1101126    10    M"
      ]
     },
     "execution_count": 4,
     "metadata": {},
     "output_type": "execute_result"
    }
   ],
   "source": [
    "# Lendo a API através do read_json. O final da api foi alterado para trazer apenas 20 nomes do sexo masculino\n",
    "alunos = pd.read_json('https://servicodados.ibge.gov.br/api/v1/censos/nomes/ranking?qtd=200&sexo=m')\n",
    "alunos.head(10)"
   ]
  },
  {
   "cell_type": "code",
   "execution_count": 5,
   "id": "3920244d-1b01-4130-ae49-981b18c726ef",
   "metadata": {
    "tags": []
   },
   "outputs": [
    {
     "name": "stdout",
     "output_type": "stream",
     "text": [
      "A quantidade de alunos da escola é: 400\n"
     ]
    }
   ],
   "source": [
    "print('A quantidade de alunos da escola é: ' + str(len(alunas) + len(alunos)))\n",
    "\n",
    "# para conseguir executar a concatenação das variáveis precisamos converter o numero inteiro para string"
   ]
  },
  {
   "cell_type": "markdown",
   "id": "74f14eda-b5d6-48a0-81e1-dc09efbe9d17",
   "metadata": {
    "tags": []
   },
   "source": [
    "### Criando um dataframe único"
   ]
  },
  {
   "cell_type": "code",
   "execution_count": 6,
   "id": "067b7a92-9875-4ad1-8916-243f9225948a",
   "metadata": {
    "tags": []
   },
   "outputs": [
    {
     "data": {
      "text/plain": [
       "[          nome  regiao      freq  rank sexo\n",
       " 0        MARIA       0  11694738     1    F\n",
       " 1          ANA       0   3079729     2    F\n",
       " 2    FRANCISCA       0    721637     3    F\n",
       " 3      ANTONIA       0    588783     4    F\n",
       " 4      ADRIANA       0    565621     5    F\n",
       " ..         ...     ...       ...   ...  ...\n",
       " 195     ROSANE       0     82203   196    F\n",
       " 196    IVONETE       0     81878   197    F\n",
       " 197    LUCIANE       0     81230   198    F\n",
       " 198    ISADORA       0     81100   199    F\n",
       " 199      NILZA       0     80128   200    F\n",
       " \n",
       " [200 rows x 5 columns],\n",
       "           nome  regiao     freq  rank sexo\n",
       " 0         JOSE       0  5732508     1    M\n",
       " 1         JOAO       0  2971935     2    M\n",
       " 2      ANTONIO       0  2567494     3    M\n",
       " 3    FRANCISCO       0  1765197     4    M\n",
       " 4       CARLOS       0  1483121     5    M\n",
       " ..         ...     ...      ...   ...  ...\n",
       " 195     WALTER       0    67207   196    M\n",
       " 196    ARLINDO       0    66669   197    M\n",
       " 197    MICHAEL       0    65736   198    M\n",
       " 198     ALVARO       0    65444   199    M\n",
       " 199    GEOVANE       0    65435   200    M\n",
       " \n",
       " [200 rows x 5 columns]]"
      ]
     },
     "execution_count": 6,
     "metadata": {},
     "output_type": "execute_result"
    }
   ],
   "source": [
    "# Unificando as duas variáveis em uma lista\n",
    "frames = [alunas, alunos]\n",
    "frames"
   ]
  },
  {
   "cell_type": "code",
   "execution_count": 7,
   "id": "0f1c6ade-e63c-4879-8623-ce0385ffefef",
   "metadata": {
    "tags": []
   },
   "outputs": [
    {
     "data": {
      "text/html": [
       "<div>\n",
       "<style scoped>\n",
       "    .dataframe tbody tr th:only-of-type {\n",
       "        vertical-align: middle;\n",
       "    }\n",
       "\n",
       "    .dataframe tbody tr th {\n",
       "        vertical-align: top;\n",
       "    }\n",
       "\n",
       "    .dataframe thead th {\n",
       "        text-align: right;\n",
       "    }\n",
       "</style>\n",
       "<table border=\"1\" class=\"dataframe\">\n",
       "  <thead>\n",
       "    <tr style=\"text-align: right;\">\n",
       "      <th></th>\n",
       "      <th>nome</th>\n",
       "    </tr>\n",
       "  </thead>\n",
       "  <tbody>\n",
       "    <tr>\n",
       "      <th>146</th>\n",
       "      <td>WILIAN</td>\n",
       "    </tr>\n",
       "    <tr>\n",
       "      <th>134</th>\n",
       "      <td>VERONICA</td>\n",
       "    </tr>\n",
       "    <tr>\n",
       "      <th>99</th>\n",
       "      <td>DENISE</td>\n",
       "    </tr>\n",
       "    <tr>\n",
       "      <th>4</th>\n",
       "      <td>ADRIANA</td>\n",
       "    </tr>\n",
       "    <tr>\n",
       "      <th>35</th>\n",
       "      <td>ALEXANDRE</td>\n",
       "    </tr>\n",
       "  </tbody>\n",
       "</table>\n",
       "</div>"
      ],
      "text/plain": [
       "          nome\n",
       "146     WILIAN\n",
       "134   VERONICA\n",
       "99      DENISE\n",
       "4      ADRIANA\n",
       "35   ALEXANDRE"
      ]
     },
     "execution_count": 7,
     "metadata": {},
     "output_type": "execute_result"
    }
   ],
   "source": [
    "# Utilizando a função do pandas Concat para concatenar esses dois frames, transformá-lo em um dataframe \n",
    "# e descartar as colunas que não nos interessa\n",
    "nomes = pd.concat(frames)['nome'].to_frame()\n",
    "nomes.sample(5)"
   ]
  },
  {
   "cell_type": "code",
   "execution_count": 8,
   "id": "064c6206-90bc-4603-ba10-b645414ebb4e",
   "metadata": {
    "tags": []
   },
   "outputs": [
    {
     "data": {
      "text/html": [
       "<div>\n",
       "<style scoped>\n",
       "    .dataframe tbody tr th:only-of-type {\n",
       "        vertical-align: middle;\n",
       "    }\n",
       "\n",
       "    .dataframe tbody tr th {\n",
       "        vertical-align: top;\n",
       "    }\n",
       "\n",
       "    .dataframe thead th {\n",
       "        text-align: right;\n",
       "    }\n",
       "</style>\n",
       "<table border=\"1\" class=\"dataframe\">\n",
       "  <thead>\n",
       "    <tr style=\"text-align: right;\">\n",
       "      <th></th>\n",
       "      <th>nome</th>\n",
       "    </tr>\n",
       "  </thead>\n",
       "  <tbody>\n",
       "    <tr>\n",
       "      <th>11</th>\n",
       "      <td>CAMILA</td>\n",
       "    </tr>\n",
       "    <tr>\n",
       "      <th>119</th>\n",
       "      <td>IRENE</td>\n",
       "    </tr>\n",
       "    <tr>\n",
       "      <th>110</th>\n",
       "      <td>LUCIENE</td>\n",
       "    </tr>\n",
       "    <tr>\n",
       "      <th>107</th>\n",
       "      <td>VAGNER</td>\n",
       "    </tr>\n",
       "    <tr>\n",
       "      <th>84</th>\n",
       "      <td>SEVERINO</td>\n",
       "    </tr>\n",
       "  </tbody>\n",
       "</table>\n",
       "</div>"
      ],
      "text/plain": [
       "         nome\n",
       "11     CAMILA\n",
       "119     IRENE\n",
       "110   LUCIENE\n",
       "107    VAGNER\n",
       "84   SEVERINO"
      ]
     },
     "execution_count": 8,
     "metadata": {},
     "output_type": "execute_result"
    }
   ],
   "source": [
    "# Pegando uma amostra \n",
    "nomes.sample(5)"
   ]
  },
  {
   "cell_type": "markdown",
   "id": "1d2a9679-93a7-4dbd-8faa-246ab51df31c",
   "metadata": {},
   "source": [
    "## Incluindo novas colunas no DF"
   ]
  },
  {
   "cell_type": "markdown",
   "id": "1e3bcba7-d37a-4fa4-8f28-8041aa39b056",
   "metadata": {},
   "source": [
    "### Incluindo nova coluna e criando ID randomicamente"
   ]
  },
  {
   "cell_type": "code",
   "execution_count": 9,
   "id": "c1b96c85-2e91-43dc-a26b-a14743404f84",
   "metadata": {},
   "outputs": [],
   "source": [
    "# Importando a biblioteca Numpy\n",
    "import numpy as np"
   ]
  },
  {
   "cell_type": "code",
   "execution_count": 10,
   "id": "5bbc63f9-0cd5-4693-866d-7f1f72d4b9c3",
   "metadata": {},
   "outputs": [],
   "source": [
    "# Gerando o ID do alunos de forma aleatória (pseudo aleatorio)\n",
    "np.random.seed(123)"
   ]
  },
  {
   "cell_type": "code",
   "execution_count": 11,
   "id": "70789621-57ce-42cd-b1b2-44d4cdbfcd6b",
   "metadata": {},
   "outputs": [
    {
     "data": {
      "text/plain": [
       "400"
      ]
     },
     "execution_count": 11,
     "metadata": {},
     "output_type": "execute_result"
    }
   ],
   "source": [
    "total_alunos = len(nomes)\n",
    "total_alunos"
   ]
  },
  {
   "cell_type": "code",
   "execution_count": 12,
   "id": "ab3db7a6-a03e-43f6-b3c9-d573353fea0f",
   "metadata": {},
   "outputs": [
    {
     "data": {
      "text/html": [
       "<div>\n",
       "<style scoped>\n",
       "    .dataframe tbody tr th:only-of-type {\n",
       "        vertical-align: middle;\n",
       "    }\n",
       "\n",
       "    .dataframe tbody tr th {\n",
       "        vertical-align: top;\n",
       "    }\n",
       "\n",
       "    .dataframe thead th {\n",
       "        text-align: right;\n",
       "    }\n",
       "</style>\n",
       "<table border=\"1\" class=\"dataframe\">\n",
       "  <thead>\n",
       "    <tr style=\"text-align: right;\">\n",
       "      <th></th>\n",
       "      <th>nome</th>\n",
       "      <th>id_aluno</th>\n",
       "    </tr>\n",
       "  </thead>\n",
       "  <tbody>\n",
       "    <tr>\n",
       "      <th>0</th>\n",
       "      <td>MARIA</td>\n",
       "      <td>235</td>\n",
       "    </tr>\n",
       "    <tr>\n",
       "      <th>1</th>\n",
       "      <td>ANA</td>\n",
       "      <td>43</td>\n",
       "    </tr>\n",
       "    <tr>\n",
       "      <th>2</th>\n",
       "      <td>FRANCISCA</td>\n",
       "      <td>304</td>\n",
       "    </tr>\n",
       "    <tr>\n",
       "      <th>3</th>\n",
       "      <td>ANTONIA</td>\n",
       "      <td>156</td>\n",
       "    </tr>\n",
       "    <tr>\n",
       "      <th>4</th>\n",
       "      <td>ADRIANA</td>\n",
       "      <td>343</td>\n",
       "    </tr>\n",
       "    <tr>\n",
       "      <th>5</th>\n",
       "      <td>JULIANA</td>\n",
       "      <td>310</td>\n",
       "    </tr>\n",
       "    <tr>\n",
       "      <th>6</th>\n",
       "      <td>MARCIA</td>\n",
       "      <td>55</td>\n",
       "    </tr>\n",
       "    <tr>\n",
       "      <th>7</th>\n",
       "      <td>FERNANDA</td>\n",
       "      <td>288</td>\n",
       "    </tr>\n",
       "    <tr>\n",
       "      <th>8</th>\n",
       "      <td>PATRICIA</td>\n",
       "      <td>379</td>\n",
       "    </tr>\n",
       "    <tr>\n",
       "      <th>9</th>\n",
       "      <td>ALINE</td>\n",
       "      <td>92</td>\n",
       "    </tr>\n",
       "  </tbody>\n",
       "</table>\n",
       "</div>"
      ],
      "text/plain": [
       "        nome  id_aluno\n",
       "0      MARIA       235\n",
       "1        ANA        43\n",
       "2  FRANCISCA       304\n",
       "3    ANTONIA       156\n",
       "4    ADRIANA       343\n",
       "5    JULIANA       310\n",
       "6     MARCIA        55\n",
       "7   FERNANDA       288\n",
       "8   PATRICIA       379\n",
       "9      ALINE        92"
      ]
     },
     "execution_count": 12,
     "metadata": {},
     "output_type": "execute_result"
    }
   ],
   "source": [
    "# Criando uma nova coluna para o dataframe 'nomes' e atribuindo o id \n",
    "nomes['id_aluno'] = np.random.permutation(total_alunos) + 1\n",
    "nomes.head(10)"
   ]
  },
  {
   "cell_type": "markdown",
   "id": "306930e4-d53e-4a9a-b39b-8aedf4f25e27",
   "metadata": {},
   "source": [
    "### Incluindo coluna de e-mail"
   ]
  },
  {
   "cell_type": "code",
   "execution_count": 29,
   "id": "4f3df589-7947-49cc-a492-388f28d8e841",
   "metadata": {},
   "outputs": [],
   "source": [
    "# Criando domínios de e-mails\n",
    "dominio = ['@dominiodoemail.com.br', '@servicodeemail.com.br']"
   ]
  },
  {
   "cell_type": "code",
   "execution_count": 30,
   "id": "a4d6259e-1cd2-4f96-a161-d65f87161e69",
   "metadata": {},
   "outputs": [
    {
     "data": {
      "text/html": [
       "<div>\n",
       "<style scoped>\n",
       "    .dataframe tbody tr th:only-of-type {\n",
       "        vertical-align: middle;\n",
       "    }\n",
       "\n",
       "    .dataframe tbody tr th {\n",
       "        vertical-align: top;\n",
       "    }\n",
       "\n",
       "    .dataframe thead th {\n",
       "        text-align: right;\n",
       "    }\n",
       "</style>\n",
       "<table border=\"1\" class=\"dataframe\">\n",
       "  <thead>\n",
       "    <tr style=\"text-align: right;\">\n",
       "      <th></th>\n",
       "      <th>nome</th>\n",
       "      <th>id_aluno</th>\n",
       "      <th>dominio</th>\n",
       "      <th>e_mail</th>\n",
       "    </tr>\n",
       "  </thead>\n",
       "  <tbody>\n",
       "    <tr>\n",
       "      <th>0</th>\n",
       "      <td>MARIA</td>\n",
       "      <td>235</td>\n",
       "      <td>@servicodeemail.com.br</td>\n",
       "      <td>maria@dominiodoemail.com.br</td>\n",
       "    </tr>\n",
       "    <tr>\n",
       "      <th>1</th>\n",
       "      <td>ANA</td>\n",
       "      <td>43</td>\n",
       "      <td>@servicodeemail.com.br</td>\n",
       "      <td>ana@servicodeemail.com.br</td>\n",
       "    </tr>\n",
       "    <tr>\n",
       "      <th>2</th>\n",
       "      <td>FRANCISCA</td>\n",
       "      <td>304</td>\n",
       "      <td>@servicodeemail.com.br</td>\n",
       "      <td>francisca@servicodeemail.com.br</td>\n",
       "    </tr>\n",
       "    <tr>\n",
       "      <th>3</th>\n",
       "      <td>ANTONIA</td>\n",
       "      <td>156</td>\n",
       "      <td>@dominiodoemail.com.br</td>\n",
       "      <td>antonia@servicodeemail.com.br</td>\n",
       "    </tr>\n",
       "    <tr>\n",
       "      <th>4</th>\n",
       "      <td>ADRIANA</td>\n",
       "      <td>343</td>\n",
       "      <td>@servicodeemail.com.br</td>\n",
       "      <td>adriana@servicodeemail.com.br</td>\n",
       "    </tr>\n",
       "  </tbody>\n",
       "</table>\n",
       "</div>"
      ],
      "text/plain": [
       "        nome  id_aluno                 dominio  \\\n",
       "0      MARIA       235  @servicodeemail.com.br   \n",
       "1        ANA        43  @servicodeemail.com.br   \n",
       "2  FRANCISCA       304  @servicodeemail.com.br   \n",
       "3    ANTONIA       156  @dominiodoemail.com.br   \n",
       "4    ADRIANA       343  @servicodeemail.com.br   \n",
       "\n",
       "                            e_mail  \n",
       "0      maria@dominiodoemail.com.br  \n",
       "1        ana@servicodeemail.com.br  \n",
       "2  francisca@servicodeemail.com.br  \n",
       "3    antonia@servicodeemail.com.br  \n",
       "4    adriana@servicodeemail.com.br  "
      ]
     },
     "execution_count": 30,
     "metadata": {},
     "output_type": "execute_result"
    }
   ],
   "source": [
    "# Criando a coluna dominio \n",
    "nomes['dominio'] = np.random.choice(dominio, total_alunos) # nesse caso não se quer um número aleatório, mas um elemento aleatorio da lista\n",
    "nomes.head(5)"
   ]
  },
  {
   "cell_type": "code",
   "execution_count": 31,
   "id": "622dc634-4d69-4b4e-b252-aca5f7b81904",
   "metadata": {},
   "outputs": [
    {
     "data": {
      "text/html": [
       "<div>\n",
       "<style scoped>\n",
       "    .dataframe tbody tr th:only-of-type {\n",
       "        vertical-align: middle;\n",
       "    }\n",
       "\n",
       "    .dataframe tbody tr th {\n",
       "        vertical-align: top;\n",
       "    }\n",
       "\n",
       "    .dataframe thead th {\n",
       "        text-align: right;\n",
       "    }\n",
       "</style>\n",
       "<table border=\"1\" class=\"dataframe\">\n",
       "  <thead>\n",
       "    <tr style=\"text-align: right;\">\n",
       "      <th></th>\n",
       "      <th>nome</th>\n",
       "      <th>id_aluno</th>\n",
       "      <th>dominio</th>\n",
       "      <th>e_mail</th>\n",
       "    </tr>\n",
       "  </thead>\n",
       "  <tbody>\n",
       "    <tr>\n",
       "      <th>0</th>\n",
       "      <td>MARIA</td>\n",
       "      <td>235</td>\n",
       "      <td>@servicodeemail.com.br</td>\n",
       "      <td>maria@servicodeemail.com.br</td>\n",
       "    </tr>\n",
       "    <tr>\n",
       "      <th>1</th>\n",
       "      <td>ANA</td>\n",
       "      <td>43</td>\n",
       "      <td>@servicodeemail.com.br</td>\n",
       "      <td>ana@servicodeemail.com.br</td>\n",
       "    </tr>\n",
       "    <tr>\n",
       "      <th>2</th>\n",
       "      <td>FRANCISCA</td>\n",
       "      <td>304</td>\n",
       "      <td>@servicodeemail.com.br</td>\n",
       "      <td>francisca@servicodeemail.com.br</td>\n",
       "    </tr>\n",
       "    <tr>\n",
       "      <th>3</th>\n",
       "      <td>ANTONIA</td>\n",
       "      <td>156</td>\n",
       "      <td>@dominiodoemail.com.br</td>\n",
       "      <td>antonia@dominiodoemail.com.br</td>\n",
       "    </tr>\n",
       "    <tr>\n",
       "      <th>4</th>\n",
       "      <td>ADRIANA</td>\n",
       "      <td>343</td>\n",
       "      <td>@servicodeemail.com.br</td>\n",
       "      <td>adriana@servicodeemail.com.br</td>\n",
       "    </tr>\n",
       "  </tbody>\n",
       "</table>\n",
       "</div>"
      ],
      "text/plain": [
       "        nome  id_aluno                 dominio  \\\n",
       "0      MARIA       235  @servicodeemail.com.br   \n",
       "1        ANA        43  @servicodeemail.com.br   \n",
       "2  FRANCISCA       304  @servicodeemail.com.br   \n",
       "3    ANTONIA       156  @dominiodoemail.com.br   \n",
       "4    ADRIANA       343  @servicodeemail.com.br   \n",
       "\n",
       "                            e_mail  \n",
       "0      maria@servicodeemail.com.br  \n",
       "1        ana@servicodeemail.com.br  \n",
       "2  francisca@servicodeemail.com.br  \n",
       "3    antonia@dominiodoemail.com.br  \n",
       "4    adriana@servicodeemail.com.br  "
      ]
     },
     "execution_count": 31,
     "metadata": {},
     "output_type": "execute_result"
    }
   ],
   "source": [
    "# Juntando o nome ao dominio para criar o email em uma nova coluna\n",
    "nomes['e_mail'] = nomes['nome'].str.cat(nomes['dominio']).str.lower() # coluna nome concatenada com a coluna dominio e em letra minuscula\n",
    "nomes.head(5)"
   ]
  },
  {
   "cell_type": "markdown",
   "id": "08204a41-8c77-4649-a342-0691210a6fad",
   "metadata": {},
   "source": [
    "## Criando dataframe de Cursos"
   ]
  },
  {
   "cell_type": "markdown",
   "id": "1ee05960-2e3f-4c54-85e2-e9a90c2897d6",
   "metadata": {},
   "source": [
    "### Criando dataframe de Cursos lendo HTML"
   ]
  },
  {
   "cell_type": "code",
   "execution_count": 32,
   "id": "65083983-a7fc-4231-8af8-9cf7bf76611b",
   "metadata": {},
   "outputs": [
    {
     "name": "stdout",
     "output_type": "stream",
     "text": [
      "Requirement already satisfied: html5lib in c:\\users\\natalia\\anaconda3\\lib\\site-packages (1.1)\n",
      "Requirement already satisfied: six>=1.9 in c:\\users\\natalia\\anaconda3\\lib\\site-packages (from html5lib) (1.15.0)\n",
      "Requirement already satisfied: webencodings in c:\\users\\natalia\\anaconda3\\lib\\site-packages (from html5lib) (0.5.1)\n",
      "Requirement already satisfied: lxml in c:\\users\\natalia\\anaconda3\\lib\\site-packages (4.6.3)\n"
     ]
    }
   ],
   "source": [
    "# Instalando bibliotecas com auxilio do pip install\n",
    "!pip3 install html5lib\n",
    "!pip3 install lxml "
   ]
  },
  {
   "cell_type": "code",
   "execution_count": 33,
   "id": "5ef798c7-b19a-4a8f-b230-16e6873c7eef",
   "metadata": {},
   "outputs": [],
   "source": [
    "# Importando biblioteca HTML para ler uma tabela dentro da pagina\n",
    "import html5lib "
   ]
  },
  {
   "cell_type": "code",
   "execution_count": 34,
   "id": "454c6b1a-8eb7-42c5-862a-80defa30fa7d",
   "metadata": {},
   "outputs": [],
   "source": [
    "# Atribuindo o endereço da página a uma variável\n",
    "url = 'http://tabela-cursos.herokuapp.com/index.html'"
   ]
  },
  {
   "cell_type": "code",
   "execution_count": 35,
   "id": "716fc67d-044d-4896-a02c-ea172d87dbd6",
   "metadata": {},
   "outputs": [
    {
     "data": {
      "text/plain": [
       "[                          Nome do curso\n",
       " 0                 Lógica de programação\n",
       " 1                         Java para Web\n",
       " 2                           C# para Web\n",
       " 3                         Ruby on Rails\n",
       " 4                      Cursos de Python\n",
       " 5                         PHP com MySql\n",
       " 6                         .NET para web\n",
       " 7            Novas integrações com Java\n",
       " 8                          TDD com Java\n",
       " 9                   Código limpo com C#\n",
       " 10  Preparatório para certificação Java\n",
       " 11                      Hardware básico\n",
       " 12                Persistência com .NET\n",
       " 13                  Desenvolvendo jogos\n",
       " 14                     Análise de dados\n",
       " 15                   Estatística básica\n",
       " 16                  Internet das coisas\n",
       " 17                Programação funcional\n",
       " 18                Boas práticas em Java\n",
       " 19          Orientação objetos com Java]"
      ]
     },
     "execution_count": 35,
     "metadata": {},
     "output_type": "execute_result"
    }
   ],
   "source": [
    "# Usando pandas para ler o html\n",
    "cursos = pd.read_html(url)\n",
    "cursos"
   ]
  },
  {
   "cell_type": "code",
   "execution_count": 36,
   "id": "d12446dd-b756-4aeb-a738-f88b868e92a0",
   "metadata": {},
   "outputs": [],
   "source": [
    "# Convertendo a Lista Cursos em um Dataframe\n",
    "cursos = cursos[0]"
   ]
  },
  {
   "cell_type": "code",
   "execution_count": 37,
   "id": "8806f239-d418-4be5-9bff-ed31b427fe53",
   "metadata": {},
   "outputs": [
    {
     "data": {
      "text/html": [
       "<div>\n",
       "<style scoped>\n",
       "    .dataframe tbody tr th:only-of-type {\n",
       "        vertical-align: middle;\n",
       "    }\n",
       "\n",
       "    .dataframe tbody tr th {\n",
       "        vertical-align: top;\n",
       "    }\n",
       "\n",
       "    .dataframe thead th {\n",
       "        text-align: right;\n",
       "    }\n",
       "</style>\n",
       "<table border=\"1\" class=\"dataframe\">\n",
       "  <thead>\n",
       "    <tr style=\"text-align: right;\">\n",
       "      <th></th>\n",
       "      <th>Nome do curso</th>\n",
       "    </tr>\n",
       "  </thead>\n",
       "  <tbody>\n",
       "    <tr>\n",
       "      <th>8</th>\n",
       "      <td>TDD com Java</td>\n",
       "    </tr>\n",
       "    <tr>\n",
       "      <th>16</th>\n",
       "      <td>Internet das coisas</td>\n",
       "    </tr>\n",
       "    <tr>\n",
       "      <th>15</th>\n",
       "      <td>Estatística básica</td>\n",
       "    </tr>\n",
       "    <tr>\n",
       "      <th>7</th>\n",
       "      <td>Novas integrações com Java</td>\n",
       "    </tr>\n",
       "    <tr>\n",
       "      <th>10</th>\n",
       "      <td>Preparatório para certificação Java</td>\n",
       "    </tr>\n",
       "  </tbody>\n",
       "</table>\n",
       "</div>"
      ],
      "text/plain": [
       "                          Nome do curso\n",
       "8                          TDD com Java\n",
       "16                  Internet das coisas\n",
       "15                   Estatística básica\n",
       "7            Novas integrações com Java\n",
       "10  Preparatório para certificação Java"
      ]
     },
     "execution_count": 37,
     "metadata": {},
     "output_type": "execute_result"
    }
   ],
   "source": [
    "cursos.sample(5)"
   ]
  },
  {
   "cell_type": "markdown",
   "id": "b2aca174-d501-43ff-a46d-2eabc0a433d8",
   "metadata": {},
   "source": [
    "### Alterando o index de Cursos"
   ]
  },
  {
   "cell_type": "code",
   "execution_count": 38,
   "id": "a10a3990-e5ad-4139-83da-d796c294ab25",
   "metadata": {},
   "outputs": [
    {
     "data": {
      "text/html": [
       "<div>\n",
       "<style scoped>\n",
       "    .dataframe tbody tr th:only-of-type {\n",
       "        vertical-align: middle;\n",
       "    }\n",
       "\n",
       "    .dataframe tbody tr th {\n",
       "        vertical-align: top;\n",
       "    }\n",
       "\n",
       "    .dataframe thead th {\n",
       "        text-align: right;\n",
       "    }\n",
       "</style>\n",
       "<table border=\"1\" class=\"dataframe\">\n",
       "  <thead>\n",
       "    <tr style=\"text-align: right;\">\n",
       "      <th></th>\n",
       "      <th>nome_do_curso</th>\n",
       "    </tr>\n",
       "  </thead>\n",
       "  <tbody>\n",
       "    <tr>\n",
       "      <th>0</th>\n",
       "      <td>Lógica de programação</td>\n",
       "    </tr>\n",
       "    <tr>\n",
       "      <th>19</th>\n",
       "      <td>Orientação objetos com Java</td>\n",
       "    </tr>\n",
       "    <tr>\n",
       "      <th>15</th>\n",
       "      <td>Estatística básica</td>\n",
       "    </tr>\n",
       "    <tr>\n",
       "      <th>14</th>\n",
       "      <td>Análise de dados</td>\n",
       "    </tr>\n",
       "    <tr>\n",
       "      <th>9</th>\n",
       "      <td>Código limpo com C#</td>\n",
       "    </tr>\n",
       "  </tbody>\n",
       "</table>\n",
       "</div>"
      ],
      "text/plain": [
       "                  nome_do_curso\n",
       "0         Lógica de programação\n",
       "19  Orientação objetos com Java\n",
       "15           Estatística básica\n",
       "14             Análise de dados\n",
       "9           Código limpo com C#"
      ]
     },
     "execution_count": 38,
     "metadata": {},
     "output_type": "execute_result"
    }
   ],
   "source": [
    "# Renomeando as colunas\n",
    "cursos = cursos.rename(columns={'Nome do curso' : 'nome_do_curso'})\n",
    "cursos.sample(5)"
   ]
  },
  {
   "cell_type": "code",
   "execution_count": 39,
   "id": "6239a2c5-acd8-46f5-ad1f-cca20e0b01d2",
   "metadata": {},
   "outputs": [
    {
     "data": {
      "text/html": [
       "<div>\n",
       "<style scoped>\n",
       "    .dataframe tbody tr th:only-of-type {\n",
       "        vertical-align: middle;\n",
       "    }\n",
       "\n",
       "    .dataframe tbody tr th {\n",
       "        vertical-align: top;\n",
       "    }\n",
       "\n",
       "    .dataframe thead th {\n",
       "        text-align: right;\n",
       "    }\n",
       "</style>\n",
       "<table border=\"1\" class=\"dataframe\">\n",
       "  <thead>\n",
       "    <tr style=\"text-align: right;\">\n",
       "      <th></th>\n",
       "      <th>nome_do_curso</th>\n",
       "      <th>id</th>\n",
       "    </tr>\n",
       "  </thead>\n",
       "  <tbody>\n",
       "    <tr>\n",
       "      <th>0</th>\n",
       "      <td>Lógica de programação</td>\n",
       "      <td>1</td>\n",
       "    </tr>\n",
       "    <tr>\n",
       "      <th>6</th>\n",
       "      <td>.NET para web</td>\n",
       "      <td>7</td>\n",
       "    </tr>\n",
       "    <tr>\n",
       "      <th>18</th>\n",
       "      <td>Boas práticas em Java</td>\n",
       "      <td>19</td>\n",
       "    </tr>\n",
       "    <tr>\n",
       "      <th>8</th>\n",
       "      <td>TDD com Java</td>\n",
       "      <td>9</td>\n",
       "    </tr>\n",
       "    <tr>\n",
       "      <th>7</th>\n",
       "      <td>Novas integrações com Java</td>\n",
       "      <td>8</td>\n",
       "    </tr>\n",
       "  </tbody>\n",
       "</table>\n",
       "</div>"
      ],
      "text/plain": [
       "                 nome_do_curso  id\n",
       "0        Lógica de programação   1\n",
       "6                .NET para web   7\n",
       "18       Boas práticas em Java  19\n",
       "8                 TDD com Java   9\n",
       "7   Novas integrações com Java   8"
      ]
     },
     "execution_count": 39,
     "metadata": {},
     "output_type": "execute_result"
    }
   ],
   "source": [
    "# Criando ID dos cursos\n",
    "cursos['id'] = cursos.index + 1\n",
    "cursos.sample(5)"
   ]
  },
  {
   "cell_type": "code",
   "execution_count": 40,
   "id": "34fd9dbc-1b7c-4be9-a6a7-3b4a800f3e60",
   "metadata": {},
   "outputs": [],
   "source": [
    "# Indicando o ID como index\n",
    "cursos = cursos.set_index('id')"
   ]
  },
  {
   "cell_type": "markdown",
   "id": "741a90f6-f102-4680-a477-1745431941f6",
   "metadata": {},
   "source": [
    "## Matriculando os alunos nos cursos"
   ]
  },
  {
   "cell_type": "code",
   "execution_count": 41,
   "id": "ff3d15b7-f2cd-45d1-9e14-e25dd56f5b49",
   "metadata": {},
   "outputs": [
    {
     "data": {
      "text/html": [
       "<div>\n",
       "<style scoped>\n",
       "    .dataframe tbody tr th:only-of-type {\n",
       "        vertical-align: middle;\n",
       "    }\n",
       "\n",
       "    .dataframe tbody tr th {\n",
       "        vertical-align: top;\n",
       "    }\n",
       "\n",
       "    .dataframe thead th {\n",
       "        text-align: right;\n",
       "    }\n",
       "</style>\n",
       "<table border=\"1\" class=\"dataframe\">\n",
       "  <thead>\n",
       "    <tr style=\"text-align: right;\">\n",
       "      <th></th>\n",
       "      <th>nome</th>\n",
       "      <th>id_aluno</th>\n",
       "      <th>dominio</th>\n",
       "      <th>e_mail</th>\n",
       "      <th>matriculas</th>\n",
       "    </tr>\n",
       "  </thead>\n",
       "  <tbody>\n",
       "    <tr>\n",
       "      <th>0</th>\n",
       "      <td>MARIA</td>\n",
       "      <td>235</td>\n",
       "      <td>@servicodeemail.com.br</td>\n",
       "      <td>maria@servicodeemail.com.br</td>\n",
       "      <td>1</td>\n",
       "    </tr>\n",
       "    <tr>\n",
       "      <th>1</th>\n",
       "      <td>ANA</td>\n",
       "      <td>43</td>\n",
       "      <td>@servicodeemail.com.br</td>\n",
       "      <td>ana@servicodeemail.com.br</td>\n",
       "      <td>1</td>\n",
       "    </tr>\n",
       "    <tr>\n",
       "      <th>2</th>\n",
       "      <td>FRANCISCA</td>\n",
       "      <td>304</td>\n",
       "      <td>@servicodeemail.com.br</td>\n",
       "      <td>francisca@servicodeemail.com.br</td>\n",
       "      <td>3</td>\n",
       "    </tr>\n",
       "    <tr>\n",
       "      <th>3</th>\n",
       "      <td>ANTONIA</td>\n",
       "      <td>156</td>\n",
       "      <td>@dominiodoemail.com.br</td>\n",
       "      <td>antonia@dominiodoemail.com.br</td>\n",
       "      <td>1</td>\n",
       "    </tr>\n",
       "    <tr>\n",
       "      <th>4</th>\n",
       "      <td>ADRIANA</td>\n",
       "      <td>343</td>\n",
       "      <td>@servicodeemail.com.br</td>\n",
       "      <td>adriana@servicodeemail.com.br</td>\n",
       "      <td>1</td>\n",
       "    </tr>\n",
       "    <tr>\n",
       "      <th>...</th>\n",
       "      <td>...</td>\n",
       "      <td>...</td>\n",
       "      <td>...</td>\n",
       "      <td>...</td>\n",
       "      <td>...</td>\n",
       "    </tr>\n",
       "    <tr>\n",
       "      <th>195</th>\n",
       "      <td>WALTER</td>\n",
       "      <td>231</td>\n",
       "      <td>@dominiodoemail.com.br</td>\n",
       "      <td>walter@dominiodoemail.com.br</td>\n",
       "      <td>1</td>\n",
       "    </tr>\n",
       "    <tr>\n",
       "      <th>196</th>\n",
       "      <td>ARLINDO</td>\n",
       "      <td>99</td>\n",
       "      <td>@servicodeemail.com.br</td>\n",
       "      <td>arlindo@servicodeemail.com.br</td>\n",
       "      <td>1</td>\n",
       "    </tr>\n",
       "    <tr>\n",
       "      <th>197</th>\n",
       "      <td>MICHAEL</td>\n",
       "      <td>323</td>\n",
       "      <td>@dominiodoemail.com.br</td>\n",
       "      <td>michael@dominiodoemail.com.br</td>\n",
       "      <td>7</td>\n",
       "    </tr>\n",
       "    <tr>\n",
       "      <th>198</th>\n",
       "      <td>ALVARO</td>\n",
       "      <td>383</td>\n",
       "      <td>@servicodeemail.com.br</td>\n",
       "      <td>alvaro@servicodeemail.com.br</td>\n",
       "      <td>1</td>\n",
       "    </tr>\n",
       "    <tr>\n",
       "      <th>199</th>\n",
       "      <td>GEOVANE</td>\n",
       "      <td>366</td>\n",
       "      <td>@dominiodoemail.com.br</td>\n",
       "      <td>geovane@dominiodoemail.com.br</td>\n",
       "      <td>1</td>\n",
       "    </tr>\n",
       "  </tbody>\n",
       "</table>\n",
       "<p>400 rows × 5 columns</p>\n",
       "</div>"
      ],
      "text/plain": [
       "          nome  id_aluno                 dominio  \\\n",
       "0        MARIA       235  @servicodeemail.com.br   \n",
       "1          ANA        43  @servicodeemail.com.br   \n",
       "2    FRANCISCA       304  @servicodeemail.com.br   \n",
       "3      ANTONIA       156  @dominiodoemail.com.br   \n",
       "4      ADRIANA       343  @servicodeemail.com.br   \n",
       "..         ...       ...                     ...   \n",
       "195     WALTER       231  @dominiodoemail.com.br   \n",
       "196    ARLINDO        99  @servicodeemail.com.br   \n",
       "197    MICHAEL       323  @dominiodoemail.com.br   \n",
       "198     ALVARO       383  @servicodeemail.com.br   \n",
       "199    GEOVANE       366  @dominiodoemail.com.br   \n",
       "\n",
       "                              e_mail  matriculas  \n",
       "0        maria@servicodeemail.com.br           1  \n",
       "1          ana@servicodeemail.com.br           1  \n",
       "2    francisca@servicodeemail.com.br           3  \n",
       "3      antonia@dominiodoemail.com.br           1  \n",
       "4      adriana@servicodeemail.com.br           1  \n",
       "..                               ...         ...  \n",
       "195     walter@dominiodoemail.com.br           1  \n",
       "196    arlindo@servicodeemail.com.br           1  \n",
       "197    michael@dominiodoemail.com.br           7  \n",
       "198     alvaro@servicodeemail.com.br           1  \n",
       "199    geovane@dominiodoemail.com.br           1  \n",
       "\n",
       "[400 rows x 5 columns]"
      ]
     },
     "execution_count": 41,
     "metadata": {},
     "output_type": "execute_result"
    }
   ],
   "source": [
    "# Criando a quantidade de matriculas randomicamente. Utilizamos o metodo ceil e random para que cada aluna tenho pelo menos 1 matrículo\n",
    "nomes['matriculas'] = np.ceil(np.random.exponential(size=total_alunos) * 1.5).astype(int)\n",
    "nomes"
   ]
  },
  {
   "cell_type": "code",
   "execution_count": 42,
   "id": "a032c67f-eca6-4244-91c4-74e3eebfab61",
   "metadata": {},
   "outputs": [
    {
     "data": {
      "text/plain": [
       "10"
      ]
     },
     "execution_count": 42,
     "metadata": {},
     "output_type": "execute_result"
    }
   ],
   "source": [
    "# Verificando o número maximo de matricula por aluno\n",
    "max(nomes['matriculas'])"
   ]
  },
  {
   "cell_type": "code",
   "execution_count": 43,
   "id": "87b2fe18-cbc9-48b8-bfc6-6db45c0dc9eb",
   "metadata": {},
   "outputs": [
    {
     "data": {
      "text/plain": [
       "count    400.000000\n",
       "mean       2.115000\n",
       "std        1.524002\n",
       "min        1.000000\n",
       "25%        1.000000\n",
       "50%        2.000000\n",
       "75%        3.000000\n",
       "max       10.000000\n",
       "Name: matriculas, dtype: float64"
      ]
     },
     "execution_count": 43,
     "metadata": {},
     "output_type": "execute_result"
    }
   ],
   "source": [
    "# Utilizando o describe para verificar melhor a esttistica da distribuição\n",
    "nomes.matriculas.describe()"
   ]
  },
  {
   "cell_type": "markdown",
   "id": "e4755648-b5ea-4b46-85c6-1c7381db28a6",
   "metadata": {},
   "source": [
    "### Visualizando com a biblioteca Seaborn"
   ]
  },
  {
   "cell_type": "code",
   "execution_count": 44,
   "id": "c9a2adb2-34b4-4dd0-92ee-33dce2b7e33b",
   "metadata": {},
   "outputs": [],
   "source": [
    "# Importando biblioteca\n",
    "import seaborn as sns"
   ]
  },
  {
   "cell_type": "code",
   "execution_count": 45,
   "id": "34cfb4b7-96e7-4091-a536-b1129f518cde",
   "metadata": {},
   "outputs": [
    {
     "name": "stderr",
     "output_type": "stream",
     "text": [
      "C:\\Users\\Natalia\\anaconda3\\lib\\site-packages\\seaborn\\distributions.py:2557: FutureWarning: `distplot` is a deprecated function and will be removed in a future version. Please adapt your code to use either `displot` (a figure-level function with similar flexibility) or `histplot` (an axes-level function for histograms).\n",
      "  warnings.warn(msg, FutureWarning)\n"
     ]
    },
    {
     "data": {
      "text/plain": [
       "<AxesSubplot:xlabel='matriculas', ylabel='Density'>"
      ]
     },
     "execution_count": 45,
     "metadata": {},
     "output_type": "execute_result"
    },
    {
     "data": {
      "image/png": "[encoded data removed]",
      "text/plain": [
       "<Figure size 432x288 with 1 Axes>"
      ]
     },
     "metadata": {
      "needs_background": "light"
     },
     "output_type": "display_data"
    }
   ],
   "source": [
    "# Visualizando a distribuição atraves de um Histograma\n",
    "sns.distplot(nomes.matriculas)"
   ]
  },
  {
   "cell_type": "code",
   "execution_count": 46,
   "id": "4446e430-431f-42bd-a39b-ff0b53f34e81",
   "metadata": {},
   "outputs": [
    {
     "data": {
      "text/plain": [
       "1     190\n",
       "2      95\n",
       "3      54\n",
       "4      37\n",
       "5      10\n",
       "7       8\n",
       "8       2\n",
       "9       2\n",
       "6       1\n",
       "10      1\n",
       "Name: matriculas, dtype: int64"
      ]
     },
     "execution_count": 46,
     "metadata": {},
     "output_type": "execute_result"
    }
   ],
   "source": [
    "# Obtendo a distribuição quantitativa\n",
    "nomes.matriculas.value_counts()"
   ]
  },
  {
   "cell_type": "markdown",
   "id": "dddcd3a1-c381-455a-8a41-466c3e5d0e9e",
   "metadata": {},
   "source": [
    "### Selecionando os cursos"
   ]
  },
  {
   "cell_type": "code",
   "execution_count": 49,
   "id": "be1d7b8a-51a2-4026-a354-b039526fe950",
   "metadata": {},
   "outputs": [],
   "source": [
    "# Atribuindo os cursos de forma aleatoria com loop FOR\n",
    "\n",
    "todas_matriculas = []\n",
    "x = np.random.rand(20) # 20 é a quantidade de cursos que temos\n",
    "probabilidade = x / sum(x)\n",
    "\n",
    "for index, row in nomes.iterrows(): # iterrows verificará linha a linha\n",
    "    id = row.id_aluno\n",
    "    matriculas = row.matriculas\n",
    "    for i in range(matriculas):\n",
    "        matcurso = [id, np.random.choice(cursos.index, p = probabilidade)]\n",
    "        todas_matriculas.append(matcurso)\n",
    "        \n",
    "matriculas = pd.DataFrame(todas_matriculas, columns=['id_aluno', 'id_curso'])"
   ]
  },
  {
   "cell_type": "code",
   "execution_count": 50,
   "id": "f63e9d7c-5b1c-4336-ba8c-d212c1eb1f3b",
   "metadata": {},
   "outputs": [
    {
     "data": {
      "text/html": [
       "<div>\n",
       "<style scoped>\n",
       "    .dataframe tbody tr th:only-of-type {\n",
       "        vertical-align: middle;\n",
       "    }\n",
       "\n",
       "    .dataframe tbody tr th {\n",
       "        vertical-align: top;\n",
       "    }\n",
       "\n",
       "    .dataframe thead th {\n",
       "        text-align: right;\n",
       "    }\n",
       "</style>\n",
       "<table border=\"1\" class=\"dataframe\">\n",
       "  <thead>\n",
       "    <tr style=\"text-align: right;\">\n",
       "      <th></th>\n",
       "      <th>id_aluno</th>\n",
       "      <th>id_curso</th>\n",
       "    </tr>\n",
       "  </thead>\n",
       "  <tbody>\n",
       "    <tr>\n",
       "      <th>0</th>\n",
       "      <td>235</td>\n",
       "      <td>4</td>\n",
       "    </tr>\n",
       "    <tr>\n",
       "      <th>1</th>\n",
       "      <td>43</td>\n",
       "      <td>1</td>\n",
       "    </tr>\n",
       "    <tr>\n",
       "      <th>2</th>\n",
       "      <td>304</td>\n",
       "      <td>16</td>\n",
       "    </tr>\n",
       "    <tr>\n",
       "      <th>3</th>\n",
       "      <td>304</td>\n",
       "      <td>4</td>\n",
       "    </tr>\n",
       "    <tr>\n",
       "      <th>4</th>\n",
       "      <td>304</td>\n",
       "      <td>10</td>\n",
       "    </tr>\n",
       "    <tr>\n",
       "      <th>5</th>\n",
       "      <td>156</td>\n",
       "      <td>13</td>\n",
       "    </tr>\n",
       "    <tr>\n",
       "      <th>6</th>\n",
       "      <td>343</td>\n",
       "      <td>2</td>\n",
       "    </tr>\n",
       "    <tr>\n",
       "      <th>7</th>\n",
       "      <td>310</td>\n",
       "      <td>6</td>\n",
       "    </tr>\n",
       "    <tr>\n",
       "      <th>8</th>\n",
       "      <td>55</td>\n",
       "      <td>18</td>\n",
       "    </tr>\n",
       "    <tr>\n",
       "      <th>9</th>\n",
       "      <td>55</td>\n",
       "      <td>6</td>\n",
       "    </tr>\n",
       "  </tbody>\n",
       "</table>\n",
       "</div>"
      ],
      "text/plain": [
       "   id_aluno  id_curso\n",
       "0       235         4\n",
       "1        43         1\n",
       "2       304        16\n",
       "3       304         4\n",
       "4       304        10\n",
       "5       156        13\n",
       "6       343         2\n",
       "7       310         6\n",
       "8        55        18\n",
       "9        55         6"
      ]
     },
     "execution_count": 50,
     "metadata": {},
     "output_type": "execute_result"
    }
   ],
   "source": [
    "matriculas.head(10)"
   ]
  },
  {
   "cell_type": "code",
   "execution_count": 54,
   "id": "462dabb7-69bf-4e62-9740-5da68d0c8d84",
   "metadata": {},
   "outputs": [
    {
     "data": {
      "text/html": [
       "<div>\n",
       "<style scoped>\n",
       "    .dataframe tbody tr th:only-of-type {\n",
       "        vertical-align: middle;\n",
       "    }\n",
       "\n",
       "    .dataframe tbody tr th {\n",
       "        vertical-align: top;\n",
       "    }\n",
       "\n",
       "    .dataframe thead th {\n",
       "        text-align: right;\n",
       "    }\n",
       "</style>\n",
       "<table border=\"1\" class=\"dataframe\">\n",
       "  <thead>\n",
       "    <tr style=\"text-align: right;\">\n",
       "      <th></th>\n",
       "      <th>qntd_alunos</th>\n",
       "      <th>nome_do_curso</th>\n",
       "    </tr>\n",
       "    <tr>\n",
       "      <th>id_curso</th>\n",
       "      <th></th>\n",
       "      <th></th>\n",
       "    </tr>\n",
       "  </thead>\n",
       "  <tbody>\n",
       "    <tr>\n",
       "      <th>1</th>\n",
       "      <td>34</td>\n",
       "      <td>Lógica de programação</td>\n",
       "    </tr>\n",
       "    <tr>\n",
       "      <th>2</th>\n",
       "      <td>87</td>\n",
       "      <td>Java para Web</td>\n",
       "    </tr>\n",
       "    <tr>\n",
       "      <th>3</th>\n",
       "      <td>51</td>\n",
       "      <td>C# para Web</td>\n",
       "    </tr>\n",
       "    <tr>\n",
       "      <th>4</th>\n",
       "      <td>43</td>\n",
       "      <td>Ruby on Rails</td>\n",
       "    </tr>\n",
       "    <tr>\n",
       "      <th>5</th>\n",
       "      <td>41</td>\n",
       "      <td>Cursos de Python</td>\n",
       "    </tr>\n",
       "    <tr>\n",
       "      <th>6</th>\n",
       "      <td>59</td>\n",
       "      <td>PHP com MySql</td>\n",
       "    </tr>\n",
       "    <tr>\n",
       "      <th>7</th>\n",
       "      <td>6</td>\n",
       "      <td>.NET para web</td>\n",
       "    </tr>\n",
       "    <tr>\n",
       "      <th>8</th>\n",
       "      <td>94</td>\n",
       "      <td>Novas integrações com Java</td>\n",
       "    </tr>\n",
       "    <tr>\n",
       "      <th>9</th>\n",
       "      <td>49</td>\n",
       "      <td>TDD com Java</td>\n",
       "    </tr>\n",
       "    <tr>\n",
       "      <th>10</th>\n",
       "      <td>43</td>\n",
       "      <td>Código limpo com C#</td>\n",
       "    </tr>\n",
       "    <tr>\n",
       "      <th>11</th>\n",
       "      <td>14</td>\n",
       "      <td>Preparatório para certificação Java</td>\n",
       "    </tr>\n",
       "    <tr>\n",
       "      <th>12</th>\n",
       "      <td>22</td>\n",
       "      <td>Hardware básico</td>\n",
       "    </tr>\n",
       "    <tr>\n",
       "      <th>13</th>\n",
       "      <td>21</td>\n",
       "      <td>Persistência com .NET</td>\n",
       "    </tr>\n",
       "    <tr>\n",
       "      <th>14</th>\n",
       "      <td>5</td>\n",
       "      <td>Desenvolvendo jogos</td>\n",
       "    </tr>\n",
       "    <tr>\n",
       "      <th>15</th>\n",
       "      <td>91</td>\n",
       "      <td>Análise de dados</td>\n",
       "    </tr>\n",
       "    <tr>\n",
       "      <th>16</th>\n",
       "      <td>31</td>\n",
       "      <td>Estatística básica</td>\n",
       "    </tr>\n",
       "    <tr>\n",
       "      <th>17</th>\n",
       "      <td>23</td>\n",
       "      <td>Internet das coisas</td>\n",
       "    </tr>\n",
       "    <tr>\n",
       "      <th>18</th>\n",
       "      <td>17</td>\n",
       "      <td>Programação funcional</td>\n",
       "    </tr>\n",
       "    <tr>\n",
       "      <th>19</th>\n",
       "      <td>84</td>\n",
       "      <td>Boas práticas em Java</td>\n",
       "    </tr>\n",
       "    <tr>\n",
       "      <th>20</th>\n",
       "      <td>31</td>\n",
       "      <td>Orientação objetos com Java</td>\n",
       "    </tr>\n",
       "  </tbody>\n",
       "</table>\n",
       "</div>"
      ],
      "text/plain": [
       "          qntd_alunos                        nome_do_curso\n",
       "id_curso                                                  \n",
       "1                  34                Lógica de programação\n",
       "2                  87                        Java para Web\n",
       "3                  51                          C# para Web\n",
       "4                  43                        Ruby on Rails\n",
       "5                  41                     Cursos de Python\n",
       "6                  59                        PHP com MySql\n",
       "7                   6                        .NET para web\n",
       "8                  94           Novas integrações com Java\n",
       "9                  49                         TDD com Java\n",
       "10                 43                  Código limpo com C#\n",
       "11                 14  Preparatório para certificação Java\n",
       "12                 22                      Hardware básico\n",
       "13                 21                Persistência com .NET\n",
       "14                  5                  Desenvolvendo jogos\n",
       "15                 91                     Análise de dados\n",
       "16                 31                   Estatística básica\n",
       "17                 23                  Internet das coisas\n",
       "18                 17                Programação funcional\n",
       "19                 84                Boas práticas em Java\n",
       "20                 31          Orientação objetos com Java"
      ]
     },
     "execution_count": 54,
     "metadata": {},
     "output_type": "execute_result"
    }
   ],
   "source": [
    "# Contando a quantidade de alunos em cada curso\n",
    "matriculas_por_curso = matriculas.groupby('id_curso').count().join(cursos['nome_do_curso']).rename(columns={'id_aluno' : 'qntd_alunos'})\n",
    "matriculas_por_curso"
   ]
  },
  {
   "cell_type": "markdown",
   "id": "17d810f6-7115-438b-aea5-f9c126e6c5bc",
   "metadata": {},
   "source": [
    "## Saídas em diferentes formatos"
   ]
  },
  {
   "cell_type": "markdown",
   "id": "528ec2f1-b669-4547-8fc7-fd58c5d20596",
   "metadata": {},
   "source": [
    "### Exportando para CSV"
   ]
  },
  {
   "cell_type": "code",
   "execution_count": 55,
   "id": "70c3a0bf-c700-4f0a-b27b-65882b3084e8",
   "metadata": {},
   "outputs": [],
   "source": [
    "# exportando \n",
    "matriculas_por_curso.to_csv('matriculas_por_curso.csv', sep = ';', index=False)"
   ]
  },
  {
   "cell_type": "markdown",
   "id": "d818cfcf-0502-4aa9-a13d-24f69340f00c",
   "metadata": {},
   "source": [
    "### Transformando para Json"
   ]
  },
  {
   "cell_type": "code",
   "execution_count": 56,
   "id": "d5a61fae-d25f-4c38-82ac-b74444c49d72",
   "metadata": {},
   "outputs": [],
   "source": [
    "matriculas_json = matriculas_por_curso.to_json()"
   ]
  },
  {
   "cell_type": "code",
   "execution_count": 57,
   "id": "af230500-9000-4f87-935d-08d60f01273e",
   "metadata": {},
   "outputs": [
    {
     "data": {
      "text/plain": [
       "'{\"qntd_alunos\":{\"1\":34,\"2\":87,\"3\":51,\"4\":43,\"5\":41,\"6\":59,\"7\":6,\"8\":94,\"9\":49,\"10\":43,\"11\":14,\"12\":22,\"13\":21,\"14\":5,\"15\":91,\"16\":31,\"17\":23,\"18\":17,\"19\":84,\"20\":31},\"nome_do_curso\":{\"1\":\"L\\\\u00f3gica de programa\\\\u00e7\\\\u00e3o\",\"2\":\"Java para Web\",\"3\":\"C# para Web\",\"4\":\"Ruby on Rails\",\"5\":\"Cursos de Python\",\"6\":\"PHP com MySql\",\"7\":\".NET para web\",\"8\":\"Novas integra\\\\u00e7\\\\u00f5es com Java\",\"9\":\"TDD com Java\",\"10\":\"C\\\\u00f3digo limpo com C#\",\"11\":\"Preparat\\\\u00f3rio para certifica\\\\u00e7\\\\u00e3o Java\",\"12\":\"Hardware b\\\\u00e1sico\",\"13\":\"Persist\\\\u00eancia com .NET\",\"14\":\"Desenvolvendo jogos\",\"15\":\"An\\\\u00e1lise de dados\",\"16\":\"Estat\\\\u00edstica b\\\\u00e1sica\",\"17\":\"Internet das coisas\",\"18\":\"Programa\\\\u00e7\\\\u00e3o funcional\",\"19\":\"Boas pr\\\\u00e1ticas em Java\",\"20\":\"Orienta\\\\u00e7\\\\u00e3o objetos com Java\"}}'"
      ]
     },
     "execution_count": 57,
     "metadata": {},
     "output_type": "execute_result"
    }
   ],
   "source": [
    "matriculas_json"
   ]
  },
  {
   "cell_type": "markdown",
   "id": "f8dae1f2-7e9c-4a25-923f-1b9eac6efd56",
   "metadata": {},
   "source": [
    "### Transformando em HTML"
   ]
  },
  {
   "cell_type": "code",
   "execution_count": 60,
   "id": "b40e5637-1e64-45cb-bc08-ee36f35dfc60",
   "metadata": {},
   "outputs": [],
   "source": [
    "matriculas_html = matriculas_por_curso.to_html()"
   ]
  },
  {
   "cell_type": "code",
   "execution_count": 62,
   "id": "7942b9a9-09a3-4169-bb29-ceda8358267e",
   "metadata": {},
   "outputs": [
    {
     "name": "stdout",
     "output_type": "stream",
     "text": [
      "<table border=\"1\" class=\"dataframe\">\n",
      "  <thead>\n",
      "    <tr style=\"text-align: right;\">\n",
      "      <th></th>\n",
      "      <th>qntd_alunos</th>\n",
      "      <th>nome_do_curso</th>\n",
      "    </tr>\n",
      "    <tr>\n",
      "      <th>id_curso</th>\n",
      "      <th></th>\n",
      "      <th></th>\n",
      "    </tr>\n",
      "  </thead>\n",
      "  <tbody>\n",
      "    <tr>\n",
      "      <th>1</th>\n",
      "      <td>34</td>\n",
      "      <td>Lógica de programação</td>\n",
      "    </tr>\n",
      "    <tr>\n",
      "      <th>2</th>\n",
      "      <td>87</td>\n",
      "      <td>Java para Web</td>\n",
      "    </tr>\n",
      "    <tr>\n",
      "      <th>3</th>\n",
      "      <td>51</td>\n",
      "      <td>C# para Web</td>\n",
      "    </tr>\n",
      "    <tr>\n",
      "      <th>4</th>\n",
      "      <td>43</td>\n",
      "      <td>Ruby on Rails</td>\n",
      "    </tr>\n",
      "    <tr>\n",
      "      <th>5</th>\n",
      "      <td>41</td>\n",
      "      <td>Cursos de Python</td>\n",
      "    </tr>\n",
      "    <tr>\n",
      "      <th>6</th>\n",
      "      <td>59</td>\n",
      "      <td>PHP com MySql</td>\n",
      "    </tr>\n",
      "    <tr>\n",
      "      <th>7</th>\n",
      "      <td>6</td>\n",
      "      <td>.NET para web</td>\n",
      "    </tr>\n",
      "    <tr>\n",
      "      <th>8</th>\n",
      "      <td>94</td>\n",
      "      <td>Novas integrações com Java</td>\n",
      "    </tr>\n",
      "    <tr>\n",
      "      <th>9</th>\n",
      "      <td>49</td>\n",
      "      <td>TDD com Java</td>\n",
      "    </tr>\n",
      "    <tr>\n",
      "      <th>10</th>\n",
      "      <td>43</td>\n",
      "      <td>Código limpo com C#</td>\n",
      "    </tr>\n",
      "    <tr>\n",
      "      <th>11</th>\n",
      "      <td>14</td>\n",
      "      <td>Preparatório para certificação Java</td>\n",
      "    </tr>\n",
      "    <tr>\n",
      "      <th>12</th>\n",
      "      <td>22</td>\n",
      "      <td>Hardware básico</td>\n",
      "    </tr>\n",
      "    <tr>\n",
      "      <th>13</th>\n",
      "      <td>21</td>\n",
      "      <td>Persistência com .NET</td>\n",
      "    </tr>\n",
      "    <tr>\n",
      "      <th>14</th>\n",
      "      <td>5</td>\n",
      "      <td>Desenvolvendo jogos</td>\n",
      "    </tr>\n",
      "    <tr>\n",
      "      <th>15</th>\n",
      "      <td>91</td>\n",
      "      <td>Análise de dados</td>\n",
      "    </tr>\n",
      "    <tr>\n",
      "      <th>16</th>\n",
      "      <td>31</td>\n",
      "      <td>Estatística básica</td>\n",
      "    </tr>\n",
      "    <tr>\n",
      "      <th>17</th>\n",
      "      <td>23</td>\n",
      "      <td>Internet das coisas</td>\n",
      "    </tr>\n",
      "    <tr>\n",
      "      <th>18</th>\n",
      "      <td>17</td>\n",
      "      <td>Programação funcional</td>\n",
      "    </tr>\n",
      "    <tr>\n",
      "      <th>19</th>\n",
      "      <td>84</td>\n",
      "      <td>Boas práticas em Java</td>\n",
      "    </tr>\n",
      "    <tr>\n",
      "      <th>20</th>\n",
      "      <td>31</td>\n",
      "      <td>Orientação objetos com Java</td>\n",
      "    </tr>\n",
      "  </tbody>\n",
      "</table>\n"
     ]
    }
   ],
   "source": [
    "print(matriculas_html)"
   ]
  },
  {
   "cell_type": "code",
   "execution_count": null,
   "id": "f6c24868-5195-4007-b6e5-01b629a2d55a",
   "metadata": {},
   "outputs": [],
   "source": []
  }
 ],
 "metadata": {
  "kernelspec": {
   "display_name": "Python 3",
   "language": "python",
   "name": "python3"
  },
  "language_info": {
   "codemirror_mode": {
    "name": "ipython",
    "version": 3
   },
   "file_extension": ".py",
   "mimetype": "text/x-python",
   "name": "python",
   "nbconvert_exporter": "python",
   "pygments_lexer": "ipython3",
   "version": "3.8.8"
  }
 },
 "nbformat": 4,
 "nbformat_minor": 5
}
